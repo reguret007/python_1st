{
 "cells": [
  {
   "cell_type": "code",
   "execution_count": null,
   "id": "9609e20b",
   "metadata": {},
   "outputs": [],
   "source": [
    "# <,>,<=,>=,==,!=\n",
    "# if <condtion>:\n",
    "#     <operatation>\n",
    "    \n",
    "# elif <condiotion>:\n",
    "#     <operation>\n",
    "    \n",
    "# else:{no condition}\n",
    "#     <operation>"
   ]
  },
  {
   "cell_type": "code",
   "execution_count": 1,
   "id": "5a3a8d08",
   "metadata": {},
   "outputs": [
    {
     "name": "stdout",
     "output_type": "stream",
     "text": [
      "enter value of a: 5\n",
      "enetr value of b: 5\n",
      "both are equal\n"
     ]
    }
   ],
   "source": [
    "a=int(input('enter value of a: '))\n",
    "b=int(input('enetr value of b: '))\n",
    "if a<b:\n",
    "    print('b is greater')\n",
    "elif a>b:\n",
    "    print('a is greater')\n",
    "else:\n",
    "    print('both are equal')\n",
    "        "
   ]
  },
  {
   "cell_type": "code",
   "execution_count": 3,
   "id": "ef038308",
   "metadata": {},
   "outputs": [
    {
     "name": "stdout",
     "output_type": "stream",
     "text": [
      "enter value of a: 2\n",
      "enetr value of b: 5\n",
      "enter + - * /: +\n",
      "7\n"
     ]
    }
   ],
   "source": [
    "a=int(input('enter value of a: '))\n",
    "b=int(input('enetr value of b: '))\n",
    "o=input('enter + - * /: ')\n",
    "if o=='+':\n",
    "    print(a+b)\n",
    "elif o=='-':\n",
    "    print(a-b)\n",
    "elif o=='*':\n",
    "    print(a*b)\n",
    "elif o=='/':\n",
    "    print(a/b)\n",
    "else:\n",
    "    print('enter valid operator')\n",
    "    \n",
    "\n",
    "\n"
   ]
  },
  {
   "cell_type": "code",
   "execution_count": 5,
   "id": "3f489463",
   "metadata": {},
   "outputs": [
    {
     "name": "stdout",
     "output_type": "stream",
     "text": [
      "enter value of a: 1\n",
      "enetr value of b: 0\n",
      "enter + - * /: /\n",
      "the value of b cant be zero\n"
     ]
    }
   ],
   "source": [
    "a=int(input('enter value of a: '))\n",
    "b=int(input('enetr value of b: '))\n",
    "o=input('enter + - * /: ')\n",
    "if o=='+':\n",
    "    print(a+b)\n",
    "elif o=='-':\n",
    "    print(a-b)\n",
    "elif o=='*':\n",
    "    print(a*b)\n",
    "elif o=='/'and b==0:\n",
    "    \n",
    "    print('the value of b cant be zero')\n",
    "\n",
    "\n",
    "else:\n",
    "    print('enter valid operator')\n",
    "    \n"
   ]
  },
  {
   "cell_type": "code",
   "execution_count": 6,
   "id": "6722f37f",
   "metadata": {},
   "outputs": [
    {
     "name": "stdout",
     "output_type": "stream",
     "text": [
      "a is first divison\n"
     ]
    }
   ],
   "source": [
    "a=60\n",
    "if a==60 or a<60:\n",
    "    print('a is first divison')\n",
    "else:\n",
    "    print('a is not first divison')"
   ]
  },
  {
   "cell_type": "code",
   "execution_count": null,
   "id": "17ceec53",
   "metadata": {},
   "outputs": [],
   "source": [
    "# nested if/else\n",
    "# if condition:\n",
    "#     operation\n",
    "# elif condition:\n",
    "#     operation\n",
    "# else:\n",
    "#     operation"
   ]
  },
  {
   "cell_type": "code",
   "execution_count": 10,
   "id": "6954e4b2",
   "metadata": {},
   "outputs": [
    {
     "name": "stdout",
     "output_type": "stream",
     "text": [
      "enter value of a: 1\n",
      "enetr value of b: 0\n",
      "enter + - * /: /\n",
      "the value of b cant be zero\n"
     ]
    }
   ],
   "source": [
    "a=int(input('enter value of a: '))\n",
    "b=int(input('enetr value of b: '))\n",
    "o=input('enter + - * /: ')\n",
    "if o=='+':\n",
    "    print(a+b)\n",
    "elif o=='-':\n",
    "    print(a-b)\n",
    "elif o=='*':\n",
    "    print(a*b)\n",
    "elif o=='/':\n",
    "    if b!=0:\n",
    "        print(a/b)\n",
    "    else:\n",
    "        print('the value of b cant be zero')\n",
    "    \n",
    "\n",
    "else:\n",
    "    print('enter valid operator')\n",
    "    "
   ]
  },
  {
   "cell_type": "code",
   "execution_count": null,
   "id": "47a72145",
   "metadata": {},
   "outputs": [],
   "source": []
  }
 ],
 "metadata": {
  "kernelspec": {
   "display_name": "Python 3",
   "language": "python",
   "name": "python3"
  },
  "language_info": {
   "codemirror_mode": {
    "name": "ipython",
    "version": 3
   },
   "file_extension": ".py",
   "mimetype": "text/x-python",
   "name": "python",
   "nbconvert_exporter": "python",
   "pygments_lexer": "ipython3",
   "version": "3.8.8"
  }
 },
 "nbformat": 4,
 "nbformat_minor": 5
}
