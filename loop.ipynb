{
 "cells": [
  {
   "cell_type": "code",
   "execution_count": null,
   "id": "7a21755f",
   "metadata": {},
   "outputs": [],
   "source": [
    "# for loop\n",
    "# while loop\n",
    "#<operator[in]>"
   ]
  },
  {
   "cell_type": "code",
   "execution_count": null,
   "id": "1c1273ee",
   "metadata": {},
   "outputs": [],
   "source": [
    "# range()\n",
    "# range(5)  0,1,2,3,4\n",
    "# range(1,5) 1,2,3,4\n",
    "# range(1,10,2) 1,3,5,7,9"
   ]
  },
  {
   "cell_type": "code",
   "execution_count": 1,
   "id": "60e0a21a",
   "metadata": {},
   "outputs": [
    {
     "name": "stdout",
     "output_type": "stream",
     "text": [
      "0 hello world\n",
      "1 hello world\n",
      "2 hello world\n",
      "3 hello world\n",
      "4 hello world\n"
     ]
    }
   ],
   "source": [
    "for i in range(5):\n",
    "    print(i,'hello world')\n",
    "    "
   ]
  },
  {
   "cell_type": "code",
   "execution_count": 2,
   "id": "7fbc1a65",
   "metadata": {},
   "outputs": [
    {
     "name": "stdout",
     "output_type": "stream",
     "text": [
      "1 hello world\n",
      "2 hello world\n",
      "3 hello world\n",
      "4 hello world\n"
     ]
    }
   ],
   "source": [
    "for i in range(1,5):\n",
    "    print(i,'hello world')\n",
    "    "
   ]
  },
  {
   "cell_type": "code",
   "execution_count": 3,
   "id": "04e269b5",
   "metadata": {},
   "outputs": [
    {
     "name": "stdout",
     "output_type": "stream",
     "text": [
      "0 hello world\n",
      "2 hello world\n",
      "4 hello world\n",
      "6 hello world\n",
      "8 hello world\n"
     ]
    }
   ],
   "source": [
    "for i in range(0,10,2):\n",
    "    print(i,'hello world')"
   ]
  },
  {
   "cell_type": "code",
   "execution_count": 4,
   "id": "9013b4b5",
   "metadata": {},
   "outputs": [
    {
     "name": "stdout",
     "output_type": "stream",
     "text": [
      "enter value of n: 5\n",
      "5\n",
      "10\n",
      "15\n",
      "20\n",
      "25\n",
      "30\n",
      "35\n",
      "40\n",
      "45\n",
      "50\n"
     ]
    }
   ],
   "source": [
    "n=int(input('enter value of n: '))\n",
    "for i in range(1,11):\n",
    "    print(n*i)"
   ]
  },
  {
   "cell_type": "code",
   "execution_count": 5,
   "id": "0b1a0769",
   "metadata": {},
   "outputs": [
    {
     "name": "stdout",
     "output_type": "stream",
     "text": [
      "enter value of n: 5\n",
      "5 * 1 = 5\n",
      "5 * 2 = 10\n",
      "5 * 3 = 15\n",
      "5 * 4 = 20\n",
      "5 * 5 = 25\n",
      "5 * 6 = 30\n",
      "5 * 7 = 35\n",
      "5 * 8 = 40\n",
      "5 * 9 = 45\n",
      "5 * 10 = 50\n"
     ]
    }
   ],
   "source": [
    "n=int(input('enter value of n: '))\n",
    "for i in range(1,11):\n",
    "    print(n,'*',i,'=',n*i)"
   ]
  },
  {
   "cell_type": "code",
   "execution_count": 4,
   "id": "cedbbeb3",
   "metadata": {},
   "outputs": [
    {
     "name": "stdout",
     "output_type": "stream",
     "text": [
      "enter value of n: 2\n",
      "enter the value of x: 10\n",
      "enter the value of x: 2\n",
      "12\n"
     ]
    }
   ],
   "source": [
    "s=0\n",
    "n=int(input('enter value of n: '))\n",
    "for i in range (n):\n",
    "    x=int(input('enter the value of x: '))\n",
    "    s=s+x\n",
    "print(s)    "
   ]
  },
  {
   "cell_type": "code",
   "execution_count": 5,
   "id": "9bbb990f",
   "metadata": {},
   "outputs": [
    {
     "name": "stdout",
     "output_type": "stream",
     "text": [
      "enter value of n: 2\n",
      "enter the value of x: hello\n",
      "enter the value of x: world\n",
      "helloworld\n"
     ]
    }
   ],
   "source": [
    "s=''\n",
    "n=int(input('enter value of n: '))\n",
    "for i in range (n):\n",
    "    x=input('enter the value of x: ')\n",
    "    s=s+x\n",
    "print(s)    "
   ]
  },
  {
   "cell_type": "code",
   "execution_count": 8,
   "id": "04f5fdf6",
   "metadata": {},
   "outputs": [
    {
     "name": "stdout",
     "output_type": "stream",
     "text": [
      "enter value of n: 2\n",
      "enter the value of name: hello\n",
      "enter the value of name: world\n",
      "hello\n",
      "world\n",
      "\n"
     ]
    }
   ],
   "source": [
    "s=''\n",
    "n=int(input('enter value of n: '))\n",
    "for i in range (n):\n",
    "    name=input('enter the value of name: ')\n",
    "    s=s+name+\"\\n\"\n",
    "print(s)    "
   ]
  },
  {
   "cell_type": "raw",
   "id": "83ccf0b3",
   "metadata": {},
   "source": []
  },
  {
   "cell_type": "code",
   "execution_count": 9,
   "id": "e9b8da24",
   "metadata": {},
   "outputs": [
    {
     "name": "stdout",
     "output_type": "stream",
     "text": [
      "enter value of n: 5\n",
      "1\n",
      "2\n",
      "6\n",
      "24\n",
      "120\n"
     ]
    }
   ],
   "source": [
    "n=int(input('enter value of n: '))\n",
    "fac=1\n",
    "for i in range (1,n+1):\n",
    "    fac=fac*i\n",
    "    print(fac)\n"
   ]
  },
  {
   "cell_type": "code",
   "execution_count": 10,
   "id": "72dc7f29",
   "metadata": {},
   "outputs": [
    {
     "name": "stdout",
     "output_type": "stream",
     "text": [
      "enter value of n: 2\n",
      "enter the value of name: ram\n",
      "number: 1432432432\n",
      "enter the value of name: sam\n",
      "number: 514352345\n",
      "ram--1432432432\n",
      "sam--514352345\n",
      "\n"
     ]
    }
   ],
   "source": [
    "s=''\n",
    "n=int(input('enter value of n: '))\n",
    "for i in range (n):\n",
    "    name=input('enter the value of name: ')\n",
    "    phone=input('number: ')\n",
    "    s=s+name+'--'+phone+\"\\n\"\n",
    "print(s)    "
   ]
  },
  {
   "cell_type": "code",
   "execution_count": 12,
   "id": "6870078b",
   "metadata": {},
   "outputs": [
    {
     "name": "stdout",
     "output_type": "stream",
     "text": [
      "h\n",
      "e\n",
      "l\n",
      "l\n",
      "o\n",
      " \n",
      "w\n",
      "o\n",
      "r\n",
      "l\n",
      "d\n"
     ]
    }
   ],
   "source": [
    "a='hello world'\n",
    "for i in a:\n",
    "    print(i)"
   ]
  },
  {
   "cell_type": "code",
   "execution_count": 13,
   "id": "d2bf80c3",
   "metadata": {},
   "outputs": [
    {
     "name": "stdout",
     "output_type": "stream",
     "text": [
      "hello world"
     ]
    }
   ],
   "source": [
    "a='hello world'\n",
    "for i in a:\n",
    "    print(i,end ='')"
   ]
  },
  {
   "cell_type": "code",
   "execution_count": 17,
   "id": "e1b8ef12",
   "metadata": {},
   "outputs": [
    {
     "name": "stdout",
     "output_type": "stream",
     "text": [
      "ello world"
     ]
    }
   ],
   "source": [
    "a='hello world'\n",
    "for i in a:\n",
    "    if i!='h':\n",
    "     print(i,end='')"
   ]
  },
  {
   "cell_type": "code",
   "execution_count": 18,
   "id": "e57af9b4",
   "metadata": {},
   "outputs": [
    {
     "name": "stdout",
     "output_type": "stream",
     "text": [
      "5\n",
      "10\n",
      "15\n",
      "20\n",
      "25\n",
      "30\n",
      "35\n",
      "40\n",
      "45\n",
      "50\n"
     ]
    }
   ],
   "source": [
    "for i in range(1,51):\n",
    "    if i%5==0:\n",
    "        print(i)"
   ]
  },
  {
   "cell_type": "code",
   "execution_count": 19,
   "id": "8c1176e5",
   "metadata": {},
   "outputs": [
    {
     "data": {
      "text/plain": [
       "11"
      ]
     },
     "execution_count": 19,
     "metadata": {},
     "output_type": "execute_result"
    }
   ],
   "source": [
    "a='hello world'\n",
    "l=len(a)\n",
    "l"
   ]
  },
  {
   "cell_type": "code",
   "execution_count": 20,
   "id": "8600d227",
   "metadata": {},
   "outputs": [
    {
     "name": "stdout",
     "output_type": "stream",
     "text": [
      "h\n",
      "e\n",
      "l\n",
      "l\n",
      "o\n",
      " \n",
      "w\n",
      "o\n",
      "r\n",
      "l\n",
      "d\n"
     ]
    }
   ],
   "source": [
    "a='hello world'\n",
    "for i in range(l):\n",
    "    print(a[i])"
   ]
  },
  {
   "cell_type": "code",
   "execution_count": 21,
   "id": "a088713b",
   "metadata": {},
   "outputs": [],
   "source": [
    "# WAP to remove 'l' from above string\n",
    "# WAP to find index value of 'l'"
   ]
  },
  {
   "cell_type": "code",
   "execution_count": 14,
   "id": "0509797b",
   "metadata": {},
   "outputs": [
    {
     "name": "stdout",
     "output_type": "stream",
     "text": [
      "heo word"
     ]
    }
   ],
   "source": [
    "a='hello world'\n",
    "for i in a:\n",
    "    if i!='l':\n",
    "     print(i,end='')"
   ]
  },
  {
   "cell_type": "code",
   "execution_count": 15,
   "id": "b94bdf55",
   "metadata": {},
   "outputs": [
    {
     "name": "stdout",
     "output_type": "stream",
     "text": [
      "2\n"
     ]
    }
   ],
   "source": [
    "a='hello world'\n",
    "for i in a:\n",
    "    index=a.index('l')\n",
    "print(index)\n",
    "                 "
   ]
  },
  {
   "cell_type": "code",
   "execution_count": 1,
   "id": "7f76fdad",
   "metadata": {},
   "outputs": [],
   "source": [
    "# while loop\n",
    "# while<condition>\n",
    "# <operation>"
   ]
  },
  {
   "cell_type": "code",
   "execution_count": 2,
   "id": "8311010e",
   "metadata": {},
   "outputs": [
    {
     "name": "stdout",
     "output_type": "stream",
     "text": [
      "0 hello world\n",
      "1 hello world\n",
      "2 hello world\n",
      "3 hello world\n",
      "4 hello world\n"
     ]
    }
   ],
   "source": [
    "a=0\n",
    "while a<=5:\n",
    "    print(a,'hello world')\n",
    "    a=a+1"
   ]
  },
  {
   "cell_type": "code",
   "execution_count": 4,
   "id": "30a4bef3",
   "metadata": {},
   "outputs": [
    {
     "name": "stdout",
     "output_type": "stream",
     "text": [
      "0 hello world\n",
      "0.5 hello world\n",
      "1.0 hello world\n",
      "1.5 hello world\n",
      "2.0 hello world\n",
      "2.5 hello world\n",
      "3.0 hello world\n",
      "3.5 hello world\n",
      "4.0 hello world\n",
      "4.5 hello world\n",
      "5.0 hello world\n"
     ]
    }
   ],
   "source": [
    "a=0\n",
    "while a<=5:\n",
    "    print(a,'hello world')\n",
    "    a=a+0.5"
   ]
  },
  {
   "cell_type": "code",
   "execution_count": 5,
   "id": "774ea3a7",
   "metadata": {},
   "outputs": [
    {
     "name": "stdout",
     "output_type": "stream",
     "text": [
      "enter thevalue of n: 5\n",
      "5 * 1 = 5\n",
      "5 * 2 = 10\n",
      "5 * 3 = 15\n",
      "5 * 4 = 20\n",
      "5 * 5 = 25\n",
      "5 * 6 = 30\n",
      "5 * 7 = 35\n",
      "5 * 8 = 40\n",
      "5 * 9 = 45\n",
      "5 * 10 = 50\n"
     ]
    }
   ],
   "source": [
    "i=1\n",
    "n=int(input('enter thevalue of n: '))\n",
    "while i<=10:\n",
    "    print(n,'*',i,'=',n*i)\n",
    "    i=i+1"
   ]
  },
  {
   "cell_type": "code",
   "execution_count": 6,
   "id": "4bc9b7cd",
   "metadata": {},
   "outputs": [
    {
     "name": "stdout",
     "output_type": "stream",
     "text": [
      "enter the value of n: 2\n",
      "enter the value of x: 100\n",
      "enter the value of x: 2\n",
      "102\n"
     ]
    }
   ],
   "source": [
    "s=0\n",
    "i=0\n",
    "n=int(input('enter the value of n: '))\n",
    "while i<n:\n",
    "    x=int(input('enter the value of x: '))\n",
    "    s=s+x\n",
    "    i=i+1\n",
    "print(s)"
   ]
  },
  {
   "cell_type": "code",
   "execution_count": 9,
   "id": "ce188d41",
   "metadata": {},
   "outputs": [
    {
     "name": "stdout",
     "output_type": "stream",
     "text": [
      "enter value of n: 5\n",
      "120\n"
     ]
    }
   ],
   "source": [
    "n=int(input('enter value of n: '))\n",
    "fac=1\n",
    "i=1\n",
    "while i<=n:\n",
    "    fac=fac*i\n",
    "    i=i+1\n",
    "print(fac)"
   ]
  },
  {
   "cell_type": "code",
   "execution_count": 10,
   "id": "73bd4e90",
   "metadata": {},
   "outputs": [
    {
     "name": "stdout",
     "output_type": "stream",
     "text": [
      "enter value of n: 2\n",
      "enter the value of name: ram\n",
      "number: 7697698\n",
      "enter the value of name: shyam\n",
      "number: 758568567\n",
      "ram--7697698\n",
      "shyam--758568567\n",
      "\n"
     ]
    }
   ],
   "source": [
    "s=''\n",
    "i=0\n",
    "n=int(input('enter value of n: '))\n",
    "while i<n:\n",
    "    name=input('enter the value of name: ')\n",
    "    phone=input('number: ')\n",
    "    s=s+name+'--'+phone+\"\\n\"\n",
    "    i=i+1\n",
    "print(s)    "
   ]
  },
  {
   "cell_type": "code",
   "execution_count": 11,
   "id": "697bab61",
   "metadata": {},
   "outputs": [
    {
     "name": "stdout",
     "output_type": "stream",
     "text": [
      "0 p\n",
      "1 y\n",
      "2 t\n",
      "3 h\n",
      "4 o\n",
      "5 n\n"
     ]
    }
   ],
   "source": [
    "i=0\n",
    "a='python'\n",
    "l=len(a)\n",
    "while i<l:\n",
    "    print(i,a[i])\n",
    "    i=i+1"
   ]
  },
  {
   "cell_type": "code",
   "execution_count": 12,
   "id": "586d54f2",
   "metadata": {},
   "outputs": [],
   "source": [
    "# # control statements\n",
    "# break\n",
    "# continue\n",
    "# pass"
   ]
  },
  {
   "cell_type": "code",
   "execution_count": 13,
   "id": "cb49dec5",
   "metadata": {},
   "outputs": [
    {
     "name": "stdout",
     "output_type": "stream",
     "text": [
      "0\n",
      "1\n",
      "2\n",
      "3\n",
      "4\n"
     ]
    }
   ],
   "source": [
    "for i in range(10):\n",
    "    if i==5:\n",
    "        break\n",
    "    else:\n",
    "        print(i)"
   ]
  },
  {
   "cell_type": "code",
   "execution_count": 18,
   "id": "d394b3e7",
   "metadata": {},
   "outputs": [
    {
     "name": "stdout",
     "output_type": "stream",
     "text": [
      "h\n",
      "e\n",
      "l\n",
      "l\n"
     ]
    }
   ],
   "source": [
    "a='hello world'\n",
    "for i in a:\n",
    "    if i=='o':\n",
    "        break\n",
    "    else:\n",
    "        print(i)"
   ]
  },
  {
   "cell_type": "code",
   "execution_count": 23,
   "id": "891eee3a",
   "metadata": {},
   "outputs": [
    {
     "name": "stdout",
     "output_type": "stream",
     "text": [
      "0\n",
      "1\n",
      "2\n",
      "3\n",
      "4\n",
      "6\n",
      "7\n",
      "8\n",
      "9\n"
     ]
    }
   ],
   "source": [
    "for i in range(10):\n",
    "    if i==5:\n",
    "        continue\n",
    "    \n",
    "    print(i)"
   ]
  },
  {
   "cell_type": "code",
   "execution_count": 28,
   "id": "6981592e",
   "metadata": {},
   "outputs": [
    {
     "name": "stdout",
     "output_type": "stream",
     "text": [
      "heo word"
     ]
    }
   ],
   "source": [
    "a='hello world'\n",
    "for i in a:\n",
    "    if i=='l':\n",
    "        continue\n",
    "    \n",
    "    print(i,end='')"
   ]
  },
  {
   "cell_type": "code",
   "execution_count": 29,
   "id": "8788e48e",
   "metadata": {},
   "outputs": [],
   "source": [
    "a=10\n",
    "b=3\n",
    "if a>b:\n",
    "    pass"
   ]
  },
  {
   "cell_type": "code",
   "execution_count": null,
   "id": "9414dca5",
   "metadata": {},
   "outputs": [],
   "source": []
  }
 ],
 "metadata": {
  "kernelspec": {
   "display_name": "Python 3",
   "language": "python",
   "name": "python3"
  },
  "language_info": {
   "codemirror_mode": {
    "name": "ipython",
    "version": 3
   },
   "file_extension": ".py",
   "mimetype": "text/x-python",
   "name": "python",
   "nbconvert_exporter": "python",
   "pygments_lexer": "ipython3",
   "version": "3.8.8"
  }
 },
 "nbformat": 4,
 "nbformat_minor": 5
}
