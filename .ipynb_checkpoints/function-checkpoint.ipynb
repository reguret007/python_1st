{
 "cells": [
  {
   "cell_type": "code",
   "execution_count": 1,
   "id": "12292906",
   "metadata": {},
   "outputs": [],
   "source": [
    "# def<<function_name>():\n",
    "#     <operation>\n",
    "# <function_name>()"
   ]
  },
  {
   "cell_type": "code",
   "execution_count": 2,
   "id": "14c276c1",
   "metadata": {},
   "outputs": [
    {
     "name": "stdout",
     "output_type": "stream",
     "text": [
      "hello world\n"
     ]
    }
   ],
   "source": [
    "def hello():\n",
    "    print('hello world')\n",
    "hello()"
   ]
  },
  {
   "cell_type": "code",
   "execution_count": 3,
   "id": "90880884",
   "metadata": {},
   "outputs": [
    {
     "name": "stdout",
     "output_type": "stream",
     "text": [
      "5\n"
     ]
    }
   ],
   "source": [
    "def cal():\n",
    "    l=1           #local variable\n",
    "    b=5           #local variable\n",
    "    a=l*b         #local variable\n",
    "    print(a)\n",
    "cal()"
   ]
  },
  {
   "cell_type": "code",
   "execution_count": 4,
   "id": "99e0e92d",
   "metadata": {},
   "outputs": [
    {
     "name": "stdout",
     "output_type": "stream",
     "text": [
      "5\n"
     ]
    }
   ],
   "source": [
    "l=1               #global variable\n",
    "b=5               #global variable\n",
    "def cal():\n",
    "   \n",
    "    a=l*b         #local variable\n",
    "    print(a)\n",
    "cal()\n",
    "#print(l,b)"
   ]
  },
  {
   "cell_type": "code",
   "execution_count": 5,
   "id": "e074bae2",
   "metadata": {},
   "outputs": [
    {
     "name": "stdout",
     "output_type": "stream",
     "text": [
      "5\n",
      "1 5\n"
     ]
    }
   ],
   "source": [
    "def cal():\n",
    "    global l,b\n",
    "    l=1           #local variable\n",
    "    b=5           #local variable\n",
    "    a=l*b         #local variable\n",
    "    print(a)\n",
    "cal()\n",
    "print(l,b)"
   ]
  },
  {
   "cell_type": "code",
   "execution_count": 6,
   "id": "d86bb920",
   "metadata": {},
   "outputs": [],
   "source": [
    "# argument\n",
    "# return type"
   ]
  },
  {
   "cell_type": "code",
   "execution_count": 8,
   "id": "7c6bd7b6",
   "metadata": {},
   "outputs": [
    {
     "name": "stdout",
     "output_type": "stream",
     "text": [
      "hello world\n"
     ]
    }
   ],
   "source": [
    "# argument\n",
    "\n",
    "def hello(a):\n",
    "    print(a)\n",
    "hello('hello world')    #argument"
   ]
  },
  {
   "cell_type": "code",
   "execution_count": 9,
   "id": "61704307",
   "metadata": {},
   "outputs": [
    {
     "name": "stdout",
     "output_type": "stream",
     "text": [
      "enter value of l: 1\n",
      "enter the value of b: 5\n",
      "5\n"
     ]
    }
   ],
   "source": [
    "\n",
    "def cal(x,y):\n",
    "   \n",
    "    a=l*b        \n",
    "    print(a)\n",
    "l=int(input('enter value of l: '))\n",
    "b=int(input('enter the value of b: '))\n",
    "\n",
    "cal(l,b)          #argument"
   ]
  },
  {
   "cell_type": "code",
   "execution_count": 10,
   "id": "cb2d8865",
   "metadata": {},
   "outputs": [
    {
     "name": "stdout",
     "output_type": "stream",
     "text": [
      "enter value of a: 5\n",
      "enetr value of b: 1\n",
      "enter + - * /: *\n",
      "5\n"
     ]
    }
   ],
   "source": [
    "def cal():\n",
    "    a=int(input('enter value of a: '))\n",
    "    b=int(input('enetr value of b: '))\n",
    "    o=input('enter + - * /: ')\n",
    "    if o=='+':\n",
    "        print(a+b)\n",
    "    elif o=='-':\n",
    "        print(a-b)\n",
    "    elif o=='*':\n",
    "        print(a*b)\n",
    "    elif o=='/':\n",
    "        if b!=0:\n",
    "            print(a/b)\n",
    "        else:\n",
    "            print('the value of b cant be zero')\n",
    "\n",
    "\n",
    "    else:\n",
    "        print('enter valid operator')\n",
    "cal()\n",
    "    "
   ]
  },
  {
   "cell_type": "code",
   "execution_count": 13,
   "id": "6112d8b0",
   "metadata": {},
   "outputs": [
    {
     "name": "stdout",
     "output_type": "stream",
     "text": [
      "enter value of a: 2\n",
      "enetr value of b: 6\n",
      "enter + - * /: *\n",
      "12\n"
     ]
    }
   ],
   "source": [
    "def cal(a,b,o):\n",
    "   \n",
    "    if o=='+':\n",
    "        print(a+b)\n",
    "    elif o=='-':\n",
    "        print(a-b)\n",
    "    elif o=='*':\n",
    "        print(a*b)\n",
    "    elif o=='/':\n",
    "        if b!=0:\n",
    "            print(a/b)\n",
    "        else:\n",
    "            print('the value of b cant be zero')\n",
    "\n",
    "\n",
    "    else:\n",
    "        print('enter valid operator')\n",
    "\n",
    "a=int(input('enter value of a: '))\n",
    "b=int(input('enetr value of b: '))\n",
    "o=input('enter + - * /: ')\n",
    "cal(a,b,o)\n",
    "    "
   ]
  },
  {
   "cell_type": "code",
   "execution_count": 15,
   "id": "2196997c",
   "metadata": {},
   "outputs": [
    {
     "name": "stdout",
     "output_type": "stream",
     "text": [
      "sam\n",
      "sita\n",
      "ram\n"
     ]
    }
   ],
   "source": [
    "def name(x='ram'):\n",
    "    print(x)\n",
    "name('sam')\n",
    "name('sita')\n",
    "name()"
   ]
  },
  {
   "cell_type": "code",
   "execution_count": 16,
   "id": "63f9c203",
   "metadata": {},
   "outputs": [
    {
     "name": "stdout",
     "output_type": "stream",
     "text": [
      "hello world\n"
     ]
    }
   ],
   "source": [
    "# return type\n",
    "\n",
    "def hello():\n",
    "    return'hello world'\n",
    "print(hello())"
   ]
  },
  {
   "cell_type": "code",
   "execution_count": 19,
   "id": "48c16cfa",
   "metadata": {},
   "outputs": [
    {
     "name": "stdout",
     "output_type": "stream",
     "text": [
      "enter value of l: 5\n",
      "enter the value of b: 4\n",
      "20\n"
     ]
    }
   ],
   "source": [
    "def cal(x,y):\n",
    "   \n",
    "    a=l*b        \n",
    "    return a\n",
    "l=int(input('enter value of l: '))\n",
    "b=int(input('enter the value of b: '))\n",
    "\n",
    "d=cal(l,b)   \n",
    "print(d)"
   ]
  },
  {
   "cell_type": "code",
   "execution_count": 20,
   "id": "6a99905c",
   "metadata": {},
   "outputs": [
    {
     "name": "stdout",
     "output_type": "stream",
     "text": [
      "enter value of l: 2\n",
      "enter the value of b: 3\n",
      "enter the value of h: 4\n",
      "6\n",
      "24\n"
     ]
    }
   ],
   "source": [
    "def cal(x,y):\n",
    "   \n",
    "    a=l*b        \n",
    "    return a\n",
    "l=int(input('enter value of l: '))\n",
    "b=int(input('enter the value of b: '))\n",
    "h=int(input('enter the value of h: '))\n",
    "\n",
    "d=cal(l,b)   \n",
    "print(d)\n",
    "v=d*h\n",
    "print(v)"
   ]
  },
  {
   "cell_type": "code",
   "execution_count": 24,
   "id": "28156f04",
   "metadata": {},
   "outputs": [
    {
     "name": "stdout",
     "output_type": "stream",
     "text": [
      "50\n",
      "100\n"
     ]
    }
   ],
   "source": [
    "a=(50,100)\n",
    "x,y=a\n",
    "print(x)\n",
    "print(y)"
   ]
  },
  {
   "cell_type": "code",
   "execution_count": 12,
   "id": "cefc033a",
   "metadata": {},
   "outputs": [
    {
     "data": {
      "text/plain": [
       "(2, 6)"
      ]
     },
     "execution_count": 12,
     "metadata": {},
     "output_type": "execute_result"
    }
   ],
   "source": [
    "def cal(l,b,h):\n",
    "    a=l*b\n",
    "    v=a*h\n",
    "    return a,v\n",
    "cal(1,2,3)\n",
    "area,voloume=\n",
    "\n",
    "\n"
   ]
  },
  {
   "cell_type": "code",
   "execution_count": 3,
   "id": "11b89d4f",
   "metadata": {},
   "outputs": [],
   "source": [
    "#math function\n",
    "#recrusive function\n"
   ]
  },
  {
   "cell_type": "code",
   "execution_count": 4,
   "id": "dd2bf76a",
   "metadata": {},
   "outputs": [
    {
     "name": "stdout",
     "output_type": "stream",
     "text": [
      "3.141592653589793\n",
      "2.718281828459045\n"
     ]
    }
   ],
   "source": [
    "#math function\n",
    "import math as m\n",
    "print(m.pi)\n",
    "print(m.e)"
   ]
  },
  {
   "cell_type": "code",
   "execution_count": 5,
   "id": "6400e033",
   "metadata": {},
   "outputs": [
    {
     "name": "stdout",
     "output_type": "stream",
     "text": [
      "enter r: 5\n",
      "78.53981633974483\n"
     ]
    }
   ],
   "source": [
    "r=int(input('enter r: '))\n",
    "a=m.pi*m.pow(r,2)\n",
    "print(a)"
   ]
  },
  {
   "cell_type": "code",
   "execution_count": 8,
   "id": "e93a8947",
   "metadata": {},
   "outputs": [
    {
     "name": "stdout",
     "output_type": "stream",
     "text": [
      "hello world\n",
      "enter y for more print: y\n",
      "hello world\n",
      "enter y for more print: n\n"
     ]
    }
   ],
   "source": [
    "def hello():\n",
    "    print('hello world')\n",
    "    x=input('enter y for more print: ')\n",
    "    if x=='y':\n",
    "        hello()\n",
    "hello()"
   ]
  },
  {
   "cell_type": "code",
   "execution_count": 11,
   "id": "adb1dc44",
   "metadata": {},
   "outputs": [
    {
     "name": "stdout",
     "output_type": "stream",
     "text": [
      "enter value of a: 2\n",
      "enetr value of b: 4\n",
      "enter + - * /: /\n",
      "0.5\n",
      "enter y for more cal: y\n",
      "enter value of a: 1\n",
      "enetr value of b: 2\n",
      "enter + - * /: *\n",
      "2\n",
      "enter y for more cal: g\n"
     ]
    }
   ],
   "source": [
    "def cal():\n",
    "    a=int(input('enter value of a: '))\n",
    "    b=int(input('enetr value of b: '))\n",
    "    o=input('enter + - * /: ')\n",
    "    if o=='+':\n",
    "        print(a+b)\n",
    "    elif o=='-':\n",
    "        print(a-b)\n",
    "    elif o=='*':\n",
    "        print(a*b)\n",
    "    elif o=='/':\n",
    "        if b!=0:\n",
    "            print(a/b)\n",
    "\n",
    "    \n",
    "\n",
    "    else:\n",
    "        print('enter valid operator')\n",
    "    x=input('enter y for more cal: ')\n",
    "    if x=='y':\n",
    "        cal()\n",
    "cal()\n",
    "    "
   ]
  },
  {
   "cell_type": "code",
   "execution_count": 21,
   "id": "0031fd92",
   "metadata": {},
   "outputs": [
    {
     "name": "stdout",
     "output_type": "stream",
     "text": [
      "enetr your name: apple\n",
      "enetr price: 2\n",
      "eneter quantity: 3\n"
     ]
    },
    {
     "ename": "NameError",
     "evalue": "name 'quantity' is not defined",
     "output_type": "error",
     "traceback": [
      "\u001b[1;31m---------------------------------------------------------------------------\u001b[0m",
      "\u001b[1;31mNameError\u001b[0m                                 Traceback (most recent call last)",
      "\u001b[1;32m<ipython-input-21-7152626105f8>\u001b[0m in \u001b[0;36m<module>\u001b[1;34m\u001b[0m\n\u001b[0;32m     16\u001b[0m         \u001b[0mcal\u001b[0m\u001b[1;33m(\u001b[0m\u001b[1;33m)\u001b[0m\u001b[1;33m\u001b[0m\u001b[1;33m\u001b[0m\u001b[0m\n\u001b[0;32m     17\u001b[0m \u001b[1;33m\u001b[0m\u001b[0m\n\u001b[1;32m---> 18\u001b[1;33m \u001b[0mcal\u001b[0m\u001b[1;33m(\u001b[0m\u001b[1;33m)\u001b[0m\u001b[1;33m\u001b[0m\u001b[1;33m\u001b[0m\u001b[0m\n\u001b[0m\u001b[0;32m     19\u001b[0m \u001b[0mprint\u001b[0m\u001b[1;33m(\u001b[0m\u001b[0mnet_total\u001b[0m\u001b[1;33m)\u001b[0m\u001b[1;33m\u001b[0m\u001b[1;33m\u001b[0m\u001b[0m\n",
      "\u001b[1;32m<ipython-input-21-7152626105f8>\u001b[0m in \u001b[0;36mcal\u001b[1;34m()\u001b[0m\n\u001b[0;32m      8\u001b[0m     \u001b[0mprice\u001b[0m\u001b[1;33m=\u001b[0m\u001b[0mint\u001b[0m\u001b[1;33m(\u001b[0m\u001b[0minput\u001b[0m\u001b[1;33m(\u001b[0m\u001b[1;34m'enetr price: '\u001b[0m\u001b[1;33m)\u001b[0m\u001b[1;33m)\u001b[0m\u001b[1;33m\u001b[0m\u001b[1;33m\u001b[0m\u001b[0m\n\u001b[0;32m      9\u001b[0m     \u001b[0mqunatity\u001b[0m\u001b[1;33m=\u001b[0m\u001b[0mint\u001b[0m\u001b[1;33m(\u001b[0m\u001b[0minput\u001b[0m\u001b[1;33m(\u001b[0m\u001b[1;34m'eneter quantity: '\u001b[0m\u001b[1;33m)\u001b[0m\u001b[1;33m)\u001b[0m\u001b[1;33m\u001b[0m\u001b[1;33m\u001b[0m\u001b[0m\n\u001b[1;32m---> 10\u001b[1;33m     \u001b[0mtotal\u001b[0m\u001b[1;33m=\u001b[0m\u001b[0mprice\u001b[0m\u001b[1;33m*\u001b[0m\u001b[0mquantity\u001b[0m\u001b[1;33m\u001b[0m\u001b[1;33m\u001b[0m\u001b[0m\n\u001b[0m\u001b[0;32m     11\u001b[0m     \u001b[0mnet_total\u001b[0m\u001b[1;33m=\u001b[0m\u001b[0mnet_total\u001b[0m\u001b[1;33m+\u001b[0m\u001b[0mtotal\u001b[0m\u001b[1;33m\u001b[0m\u001b[1;33m\u001b[0m\u001b[0m\n\u001b[0;32m     12\u001b[0m     \u001b[0mprint\u001b[0m\u001b[1;33m(\u001b[0m\u001b[0mname\u001b[0m\u001b[1;33m,\u001b[0m\u001b[0mprice\u001b[0m\u001b[1;33m,\u001b[0m\u001b[0mquantity\u001b[0m\u001b[1;33m,\u001b[0m\u001b[0mtotal\u001b[0m\u001b[1;33m)\u001b[0m\u001b[1;33m\u001b[0m\u001b[1;33m\u001b[0m\u001b[0m\n",
      "\u001b[1;31mNameError\u001b[0m: name 'quantity' is not defined"
     ]
    }
   ],
   "source": [
    "# wap to develope a billing system by function\n",
    "net_total=0\n",
    "def cal():\n",
    "   \n",
    "    global net_total\n",
    "    \n",
    "    name=input('enetr your name: ')\n",
    "    price=int(input('enetr price: '))\n",
    "    qunatity=int(input('eneter quantity: '))\n",
    "    total=price* qunatity\n",
    "    net_total=net_total+total\n",
    "    print(name,price,qunatity,total)\n",
    "        \n",
    "    x=input('enter y for more cal: ')\n",
    "    if x=='y':\n",
    "        cal()\n",
    "                \n",
    "cal()\n",
    "print(net_total)"
   ]
  },
  {
   "cell_type": "code",
   "execution_count": null,
   "id": "2236eff8",
   "metadata": {},
   "outputs": [],
   "source": []
  }
 ],
 "metadata": {
  "kernelspec": {
   "display_name": "Python 3",
   "language": "python",
   "name": "python3"
  },
  "language_info": {
   "codemirror_mode": {
    "name": "ipython",
    "version": 3
   },
   "file_extension": ".py",
   "mimetype": "text/x-python",
   "name": "python",
   "nbconvert_exporter": "python",
   "pygments_lexer": "ipython3",
   "version": "3.8.8"
  }
 },
 "nbformat": 4,
 "nbformat_minor": 5
}
