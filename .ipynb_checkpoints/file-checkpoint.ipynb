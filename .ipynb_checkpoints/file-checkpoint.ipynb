{
 "cells": [
  {
   "cell_type": "code",
   "execution_count": 1,
   "id": "6dd33d32",
   "metadata": {},
   "outputs": [],
   "source": [
    "# b=open(<file_name>,<mode>)\n",
    "# b.close()"
   ]
  },
  {
   "cell_type": "code",
   "execution_count": 2,
   "id": "75f42822",
   "metadata": {},
   "outputs": [],
   "source": [
    "# with open(<file_name>,<mode>)as b:\n",
    "#     operations"
   ]
  },
  {
   "cell_type": "code",
   "execution_count": 3,
   "id": "7934d4c6",
   "metadata": {},
   "outputs": [],
   "source": [
    "# read->r\n",
    "# create->x\n",
    "# write->w\n",
    "# append->a"
   ]
  },
  {
   "cell_type": "code",
   "execution_count": 5,
   "id": "e15c833f",
   "metadata": {},
   "outputs": [
    {
     "ename": "FileExistsError",
     "evalue": "[Errno 17] File exists: 'data.txt'",
     "output_type": "error",
     "traceback": [
      "\u001b[1;31m---------------------------------------------------------------------------\u001b[0m",
      "\u001b[1;31mFileExistsError\u001b[0m                           Traceback (most recent call last)",
      "\u001b[1;32m<ipython-input-5-ad15d6e985b5>\u001b[0m in \u001b[0;36m<module>\u001b[1;34m\u001b[0m\n\u001b[1;32m----> 1\u001b[1;33m \u001b[0mb\u001b[0m\u001b[1;33m=\u001b[0m\u001b[0mopen\u001b[0m\u001b[1;33m(\u001b[0m\u001b[1;34m'data.txt'\u001b[0m\u001b[1;33m,\u001b[0m\u001b[1;34m'x'\u001b[0m\u001b[1;33m)\u001b[0m\u001b[1;33m\u001b[0m\u001b[1;33m\u001b[0m\u001b[0m\n\u001b[0m\u001b[0;32m      2\u001b[0m \u001b[0mb\u001b[0m\u001b[1;33m.\u001b[0m\u001b[0mclose\u001b[0m\u001b[1;33m(\u001b[0m\u001b[1;33m)\u001b[0m\u001b[1;33m\u001b[0m\u001b[1;33m\u001b[0m\u001b[0m\n",
      "\u001b[1;31mFileExistsError\u001b[0m: [Errno 17] File exists: 'data.txt'"
     ]
    }
   ],
   "source": [
    "b=open('data.txt','x')\n",
    "b.close()#trying to create file and error due to trying to run programme again "
   ]
  },
  {
   "cell_type": "code",
   "execution_count": 6,
   "id": "5a4453cb",
   "metadata": {},
   "outputs": [
    {
     "name": "stdout",
     "output_type": "stream",
     "text": [
      "the file is already there\n"
     ]
    }
   ],
   "source": [
    "try:#exception handling\n",
    "    b=open('data.txt','x')\n",
    "    b.close()\n",
    "except:\n",
    "    print('the file is already there')"
   ]
  },
  {
   "cell_type": "code",
   "execution_count": 8,
   "id": "ebb599f7",
   "metadata": {},
   "outputs": [
    {
     "name": "stdout",
     "output_type": "stream",
     "text": [
      "1.hello world\n",
      "2.hello world\n",
      "3.hello world\n",
      "4.hello world\n",
      "5.hello world\n",
      "6.hello world\n",
      "7.hello world\n",
      "8.hello world\n"
     ]
    }
   ],
   "source": [
    "b=open('data.txt','r')\n",
    "print(b.read())\n",
    "b.close()"
   ]
  },
  {
   "cell_type": "code",
   "execution_count": 9,
   "id": "049caf2f",
   "metadata": {},
   "outputs": [
    {
     "name": "stdout",
     "output_type": "stream",
     "text": [
      "<class 'str'>\n"
     ]
    }
   ],
   "source": [
    "b=open('data.txt','r')\n",
    "x=b.read()\n",
    "print(type(x))\n",
    "b.close()"
   ]
  },
  {
   "cell_type": "code",
   "execution_count": 11,
   "id": "e865b3a0",
   "metadata": {},
   "outputs": [
    {
     "name": "stdout",
     "output_type": "stream",
     "text": [
      "['1.hello world', '2.hello world', '3.hello world', '4.hello world', '5.hello world', '6.hello world', '7.hello world', '8.hello world']\n"
     ]
    }
   ],
   "source": [
    "b=open('data.txt','r')\n",
    "x=b.read()\n",
    "y=x.split('\\n')\n",
    "print(y)\n",
    "b.close()"
   ]
  },
  {
   "cell_type": "code",
   "execution_count": 12,
   "id": "8ab25401",
   "metadata": {},
   "outputs": [
    {
     "name": "stdout",
     "output_type": "stream",
     "text": [
      "enetr line_no: 1\n"
     ]
    },
    {
     "data": {
      "text/plain": [
       "'1.hello world'"
      ]
     },
     "execution_count": 12,
     "metadata": {},
     "output_type": "execute_result"
    }
   ],
   "source": [
    "line_no=int(input('enetr line_no: '))\n",
    "y[line_no-1]"
   ]
  },
  {
   "cell_type": "code",
   "execution_count": 14,
   "id": "82ad553e",
   "metadata": {},
   "outputs": [
    {
     "name": "stdout",
     "output_type": "stream",
     "text": [
      "hello world\n",
      "hello world\n"
     ]
    },
    {
     "data": {
      "text/plain": [
       "['hello world', 'hello world']"
      ]
     },
     "execution_count": 14,
     "metadata": {},
     "output_type": "execute_result"
    }
   ],
   "source": [
    "a='hello world\\nhello world'\n",
    "print(a)\n",
    "a.split('\\n')"
   ]
  },
  {
   "cell_type": "code",
   "execution_count": 15,
   "id": "3609a7c9",
   "metadata": {},
   "outputs": [],
   "source": [
    "b=open('phone.txt','w')\n",
    "b.write('ram--123214322432')\n",
    "b.close()"
   ]
  },
  {
   "cell_type": "code",
   "execution_count": 16,
   "id": "e0dc9ef0",
   "metadata": {},
   "outputs": [],
   "source": [
    "b=open('phone.txt','a')\n",
    "b.write('\\nshyam--3453466')\n",
    "b.close()"
   ]
  },
  {
   "cell_type": "code",
   "execution_count": 5,
   "id": "57d6d13e",
   "metadata": {},
   "outputs": [
    {
     "name": "stdout",
     "output_type": "stream",
     "text": [
      "enter value of n: 2\n",
      "enter the name of : ram\n",
      "number: 1234\n",
      "enter the name of : shyam\n",
      "number: 5678\n",
      "ram 1234\n",
      "shyam 5678\n",
      "\n"
     ]
    }
   ],
   "source": [
    "s=''\n",
    "n=int(input('enter value of n: '))\n",
    "for i in range(n):\n",
    "    name=input('enter the name of : ')\n",
    "    phone=input('number: ')\n",
    "    s=s+f'{name} {phone}\\n'\n",
    "    \n",
    "print(s)  \n",
    "\n",
    "b=open('phone.txt','w')\n",
    "b.write(s)\n",
    "b.close()\n"
   ]
  },
  {
   "cell_type": "code",
   "execution_count": null,
   "id": "89e846d1",
   "metadata": {},
   "outputs": [],
   "source": []
  }
 ],
 "metadata": {
  "kernelspec": {
   "display_name": "Python 3",
   "language": "python",
   "name": "python3"
  },
  "language_info": {
   "codemirror_mode": {
    "name": "ipython",
    "version": 3
   },
   "file_extension": ".py",
   "mimetype": "text/x-python",
   "name": "python",
   "nbconvert_exporter": "python",
   "pygments_lexer": "ipython3",
   "version": "3.8.8"
  }
 },
 "nbformat": 4,
 "nbformat_minor": 5
}
