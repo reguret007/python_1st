{
 "cells": [
  {
   "cell_type": "code",
   "execution_count": 1,
   "id": "4497c9cd",
   "metadata": {},
   "outputs": [],
   "source": [
    "# dictionary\n",
    "# indexed\n",
    "# ordered\n",
    "# duplicate and multiple data\n",
    "# mutable"
   ]
  },
  {
   "cell_type": "code",
   "execution_count": 2,
   "id": "e58a860d",
   "metadata": {},
   "outputs": [],
   "source": [
    "#d={<key>:<value>,<key>:<value>}"
   ]
  },
  {
   "cell_type": "code",
   "execution_count": 3,
   "id": "346448a6",
   "metadata": {},
   "outputs": [
    {
     "name": "stdout",
     "output_type": "stream",
     "text": [
      "{'a': 'apple', 'b': 'ball', 'c': 'cat'}\n"
     ]
    }
   ],
   "source": [
    "d={'a':'apple','b':'ball','c':'cat'}\n",
    "print(d)"
   ]
  },
  {
   "cell_type": "code",
   "execution_count": 4,
   "id": "92aaeed8",
   "metadata": {},
   "outputs": [
    {
     "name": "stdout",
     "output_type": "stream",
     "text": [
      "apple\n"
     ]
    }
   ],
   "source": [
    "print(d['a'])"
   ]
  },
  {
   "cell_type": "code",
   "execution_count": 5,
   "id": "241f60f0",
   "metadata": {},
   "outputs": [
    {
     "name": "stdout",
     "output_type": "stream",
     "text": [
      "cat\n"
     ]
    }
   ],
   "source": [
    "print(d['c'])"
   ]
  },
  {
   "cell_type": "code",
   "execution_count": 6,
   "id": "dfa7c0eb",
   "metadata": {},
   "outputs": [
    {
     "name": "stdout",
     "output_type": "stream",
     "text": [
      "{'a': 'apple', 'b': 'ball', 'c': 'cat', 'A': 'apple'}\n"
     ]
    }
   ],
   "source": [
    "d={'a':'apple','b':'ball','c':'cat','A':'apple'}\n",
    "print(d)"
   ]
  },
  {
   "cell_type": "code",
   "execution_count": 7,
   "id": "ff4a4484",
   "metadata": {},
   "outputs": [
    {
     "name": "stdout",
     "output_type": "stream",
     "text": [
      "{'a': 'ant', 'b': 'ball', 'c': 'cat'}\n"
     ]
    }
   ],
   "source": [
    "d={'a':'apple','b':'ball','c':'cat','a':'ant'}\n",
    "print(d)"
   ]
  },
  {
   "cell_type": "code",
   "execution_count": 8,
   "id": "93935ab0",
   "metadata": {},
   "outputs": [
    {
     "data": {
      "text/plain": [
       "{'a': 'apple', 'b': 'ball'}"
      ]
     },
     "execution_count": 8,
     "metadata": {},
     "output_type": "execute_result"
    }
   ],
   "source": [
    "#a=dict()\n",
    "a={}\n",
    "a['a']='apple'\n",
    "a['b']='ball'\n",
    "a"
   ]
  },
  {
   "cell_type": "code",
   "execution_count": 10,
   "id": "2dffebbc",
   "metadata": {},
   "outputs": [
    {
     "name": "stdout",
     "output_type": "stream",
     "text": [
      "enert the value of n: 2\n",
      "enter name: ram\n",
      "enetr phone: 12312321\n",
      "enter name: shyam\n",
      "enetr phone: 123123\n",
      "{'ram': 12312321, 'shyam': 123123}\n"
     ]
    }
   ],
   "source": [
    "n=int(input('enert the value of n: '))\n",
    "info={}\n",
    "for i in range(n):\n",
    "    name=input('enter name: ')\n",
    "    phone=int(input('enetr phone: '))\n",
    "    info[name]=phone\n",
    "print(info)"
   ]
  },
  {
   "cell_type": "code",
   "execution_count": 11,
   "id": "37f810e7",
   "metadata": {},
   "outputs": [
    {
     "name": "stdout",
     "output_type": "stream",
     "text": [
      "12312321\n",
      "123123\n"
     ]
    }
   ],
   "source": [
    "a={'ram': 12312321, 'shyam': 123123}\n",
    "for i in a.values():\n",
    "    print(i)\n",
    "    "
   ]
  },
  {
   "cell_type": "code",
   "execution_count": 12,
   "id": "b87bef11",
   "metadata": {},
   "outputs": [
    {
     "name": "stdout",
     "output_type": "stream",
     "text": [
      "ram\n",
      "shyam\n"
     ]
    }
   ],
   "source": [
    "a={'ram': 12312321, 'shyam': 123123}\n",
    "for i in a:\n",
    "    print(i)\n",
    "    "
   ]
  },
  {
   "cell_type": "code",
   "execution_count": 13,
   "id": "3bfc9881",
   "metadata": {},
   "outputs": [
    {
     "name": "stdout",
     "output_type": "stream",
     "text": [
      "('ram', 12312321)\n",
      "('shyam', 123123)\n"
     ]
    }
   ],
   "source": [
    "a={'ram': 12312321, 'shyam': 123123}\n",
    "for i in a.items():\n",
    "    print(i)\n",
    "    "
   ]
  },
  {
   "cell_type": "code",
   "execution_count": 14,
   "id": "e44e90ec",
   "metadata": {},
   "outputs": [
    {
     "data": {
      "text/plain": [
       "{'ram': 789, 'shyam': 123123}"
      ]
     },
     "execution_count": 14,
     "metadata": {},
     "output_type": "execute_result"
    }
   ],
   "source": [
    "a={'ram': 12312321, 'shyam': 123123}\n",
    "a['ram']=789                          #update\n",
    "a"
   ]
  },
  {
   "cell_type": "code",
   "execution_count": 15,
   "id": "7e9984b0",
   "metadata": {},
   "outputs": [
    {
     "data": {
      "text/plain": [
       "{'shyam': 123123}"
      ]
     },
     "execution_count": 15,
     "metadata": {},
     "output_type": "execute_result"
    }
   ],
   "source": [
    "#del pop()\n",
    "a={'ram': 12312321, 'shyam': 123123}\n",
    "del a['ram']\n",
    "a"
   ]
  },
  {
   "cell_type": "code",
   "execution_count": 16,
   "id": "1b16266a",
   "metadata": {},
   "outputs": [
    {
     "data": {
      "text/plain": [
       "{'shyam': 123123}"
      ]
     },
     "execution_count": 16,
     "metadata": {},
     "output_type": "execute_result"
    }
   ],
   "source": [
    "a={'ram': 12312321, 'shyam': 123123}\n",
    "a.pop('ram')\n",
    "a"
   ]
  },
  {
   "cell_type": "code",
   "execution_count": 17,
   "id": "5ddde353",
   "metadata": {},
   "outputs": [
    {
     "data": {
      "text/plain": [
       "{'ram': 12312321, 'shyam': 123123, 'hari': 123123}"
      ]
     },
     "execution_count": 17,
     "metadata": {},
     "output_type": "execute_result"
    }
   ],
   "source": [
    "a={'ram': 12312321, 'shyam': 123123}\n",
    "b={'hari':123123}\n",
    "a.update(b)\n",
    "a"
   ]
  },
  {
   "cell_type": "code",
   "execution_count": 21,
   "id": "9d2d4449",
   "metadata": {},
   "outputs": [
    {
     "data": {
      "text/plain": [
       "{'ram': [12312321, 23452534], 'shyam': [123123, 23425154]}"
      ]
     },
     "execution_count": 21,
     "metadata": {},
     "output_type": "execute_result"
    }
   ],
   "source": [
    "#list inside dict\n",
    "a={'ram': [12312321,23452534],\n",
    "   'shyam': [123123,23425154]}\n",
    "\n",
    "a"
   ]
  },
  {
   "cell_type": "code",
   "execution_count": 23,
   "id": "395b5b1f",
   "metadata": {},
   "outputs": [
    {
     "data": {
      "text/plain": [
       "[123123, 23425154]"
      ]
     },
     "execution_count": 23,
     "metadata": {},
     "output_type": "execute_result"
    }
   ],
   "source": [
    "a['shyam']"
   ]
  },
  {
   "cell_type": "code",
   "execution_count": 24,
   "id": "d16a676f",
   "metadata": {},
   "outputs": [
    {
     "data": {
      "text/plain": [
       "{'ram': [12312321, 23452534],\n",
       " 'shyam': [123123, 23425154],\n",
       " 'hari': [123432, 354352]}"
      ]
     },
     "execution_count": 24,
     "metadata": {},
     "output_type": "execute_result"
    }
   ],
   "source": [
    "a['hari']=[123432,354352]\n",
    "a"
   ]
  },
  {
   "cell_type": "code",
   "execution_count": 25,
   "id": "4e7c1380",
   "metadata": {},
   "outputs": [
    {
     "data": {
      "text/plain": [
       "{'ram': [12312321, 23452534],\n",
       " 'shyam': [123123, 23425154],\n",
       " 'hari': [564563, 354352]}"
      ]
     },
     "execution_count": 25,
     "metadata": {},
     "output_type": "execute_result"
    }
   ],
   "source": [
    "a['hari'][0]=564563\n",
    "a"
   ]
  },
  {
   "cell_type": "code",
   "execution_count": 26,
   "id": "24c1aee7",
   "metadata": {},
   "outputs": [
    {
     "data": {
      "text/plain": [
       "{'ram': [12312321, 23452534], 'shyam': [123123, 23425154], 'hari': [354352]}"
      ]
     },
     "execution_count": 26,
     "metadata": {},
     "output_type": "execute_result"
    }
   ],
   "source": [
    "del a['hari'][0]\n",
    "a"
   ]
  },
  {
   "cell_type": "code",
   "execution_count": 27,
   "id": "197ce6c1",
   "metadata": {},
   "outputs": [
    {
     "name": "stdout",
     "output_type": "stream",
     "text": [
      "enert the value of n: 2\n",
      "enter name: ram\n",
      "enetr phone: 9841\n",
      "enetr phone: 98510\n",
      "enter name: shyam\n",
      "enetr phone: 984128\n",
      "enetr phone: 9851098\n",
      "{'ram': [9841, 98510], 'shyam': [984128, 9851098]}\n"
     ]
    }
   ],
   "source": [
    "n=int(input('enert the value of n: '))\n",
    "info={}\n",
    "for i in range(n):\n",
    "    name=input('enter name: ')\n",
    "    ntc_phone=int(input('enetr phone: '))\n",
    "    ncell_phone=int(input('enetr phone: '))\n",
    "    info[name]=[ntc_phone,ncell_phone]\n",
    "print(info)\n",
    "    \n",
    "     \n",
    "        \n",
    "        \n",
    "      "
   ]
  },
  {
   "cell_type": "code",
   "execution_count": 28,
   "id": "dcdf4588",
   "metadata": {},
   "outputs": [
    {
     "name": "stdout",
     "output_type": "stream",
     "text": [
      "enert the value of n: 2\n",
      "enetr name: ram\n",
      "enetr age: 22\n",
      "enter add: kathmandu\n",
      "enetr name: shyam\n",
      "enetr age: 23\n",
      "enter add: bhaktapur\n",
      "{'name': ['ram', 'shyam'], 'age': [22, 23], 'add': ['kathmandu', 'bhaktapur']}\n"
     ]
    }
   ],
   "source": [
    "n=int(input('enert the value of n: '))\n",
    "info={'name':[],'age':[],'add':[]}\n",
    "for i in range(n):\n",
    "    name=input('enetr name: ')\n",
    "    age=int(input('enetr age: '))\n",
    "    add=input('enter add: ')\n",
    "    info['name'].append(name)\n",
    "    info['age'].append(age)\n",
    "    info['add'].append(add)\n",
    "print(info)\n",
    "    "
   ]
  },
  {
   "cell_type": "code",
   "execution_count": 1,
   "id": "8b8b67d4",
   "metadata": {},
   "outputs": [
    {
     "name": "stdout",
     "output_type": "stream",
     "text": [
      "enetr name: ram\n",
      "['ram', 'shyam']\n"
     ]
    },
    {
     "data": {
      "text/plain": [
       "{'name': ['shyam'], 'age': [23], 'add': ['bhaktapur']}"
      ]
     },
     "execution_count": 1,
     "metadata": {},
     "output_type": "execute_result"
    }
   ],
   "source": [
    "a={'name': ['ram', 'shyam'],\n",
    "   'age': [22, 23],\n",
    "   'add': ['kathmandu', 'bhaktapur']}\n",
    "name=input('enetr name: ')\n",
    "print(a['name'])\n",
    "indexs=a['name'].index(name)\n",
    "del a['name'][indexs]\n",
    "del a['age'][indexs]\n",
    "del a['add'][indexs]\n",
    "a"
   ]
  },
  {
   "cell_type": "code",
   "execution_count": 2,
   "id": "1c1ff4ed",
   "metadata": {},
   "outputs": [
    {
     "data": {
      "text/plain": [
       "{1: {'name': 'ram', 'age': 22, 'add': 'kathmandu'},\n",
       " 2: {'name': 'shyam', 'age': 23, 'add': 'bhaktapur'},\n",
       " 3: {'name': 'gita', 'age': 20, 'add': 'lalitpur'}}"
      ]
     },
     "execution_count": 2,
     "metadata": {},
     "output_type": "execute_result"
    }
   ],
   "source": [
    "#dict inside dict\n",
    "a={1:{'name':'ram','age':22,'add':'kathmandu'},\n",
    "  2:{'name':'shyam','age':23,'add':'bhaktapur'},\n",
    "  3:{'name':'gita','age':20,'add':'lalitpur'}}\n",
    "a"
   ]
  },
  {
   "cell_type": "code",
   "execution_count": 3,
   "id": "796dec29",
   "metadata": {},
   "outputs": [
    {
     "data": {
      "text/plain": [
       "{1: {'name': 'ram', 'age': 22, 'add': 'kathmandu'},\n",
       " 2: {'name': 'shyam', 'age': 23, 'add': 'bhaktapur'},\n",
       " 3: {'name': 'gita', 'age': 20, 'add': 'lalitpur'},\n",
       " 4: {'name': 'sita', 'age': 26, 'add': 'basantapur'}}"
      ]
     },
     "execution_count": 3,
     "metadata": {},
     "output_type": "execute_result"
    }
   ],
   "source": [
    "a[4]={'name':'sita','age':26,'add':'basantapur'}\n",
    "a"
   ]
  },
  {
   "cell_type": "code",
   "execution_count": 4,
   "id": "cd615b00",
   "metadata": {},
   "outputs": [
    {
     "data": {
      "text/plain": [
       "{1: {'name': 'raman', 'age': 25, 'add': 'pokahra'},\n",
       " 2: {'name': 'shyam', 'age': 23, 'add': 'bhaktapur'},\n",
       " 3: {'name': 'gita', 'age': 20, 'add': 'lalitpur'},\n",
       " 4: {'name': 'sita', 'age': 26, 'add': 'basantapur'}}"
      ]
     },
     "execution_count": 4,
     "metadata": {},
     "output_type": "execute_result"
    }
   ],
   "source": [
    "a[1]={'name':'raman','age':25,'add':'pokahra'}\n",
    "a"
   ]
  },
  {
   "cell_type": "code",
   "execution_count": 5,
   "id": "17795178",
   "metadata": {},
   "outputs": [
    {
     "data": {
      "text/plain": [
       "{1: {'name': 'hari', 'age': 25, 'add': 'pokahra'},\n",
       " 2: {'name': 'shyam', 'age': 23, 'add': 'bhaktapur'},\n",
       " 3: {'name': 'gita', 'age': 20, 'add': 'lalitpur'},\n",
       " 4: {'name': 'sita', 'age': 26, 'add': 'basantapur'}}"
      ]
     },
     "execution_count": 5,
     "metadata": {},
     "output_type": "execute_result"
    }
   ],
   "source": [
    "a[1]['name']='hari'\n",
    "a"
   ]
  },
  {
   "cell_type": "code",
   "execution_count": null,
   "id": "995cd8a0",
   "metadata": {},
   "outputs": [],
   "source": [
    "# WAP to create dict inside dict like above\n"
   ]
  }
 ],
 "metadata": {
  "kernelspec": {
   "display_name": "Python 3",
   "language": "python",
   "name": "python3"
  },
  "language_info": {
   "codemirror_mode": {
    "name": "ipython",
    "version": 3
   },
   "file_extension": ".py",
   "mimetype": "text/x-python",
   "name": "python",
   "nbconvert_exporter": "python",
   "pygments_lexer": "ipython3",
   "version": "3.8.8"
  }
 },
 "nbformat": 4,
 "nbformat_minor": 5
}
