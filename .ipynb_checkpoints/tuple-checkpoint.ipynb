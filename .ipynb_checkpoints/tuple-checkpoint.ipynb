{
 "cells": [
  {
   "cell_type": "code",
   "execution_count": 1,
   "id": "1947eeee",
   "metadata": {},
   "outputs": [
    {
     "name": "stdout",
     "output_type": "stream",
     "text": [
      "(1, 2, 3, 4, 5, 6)\n",
      "('apple', 'ball', 'cat', 'dog')\n",
      "()\n"
     ]
    }
   ],
   "source": [
    "t=tuple()\n",
    "a=(1,2,3,4,5,6)\n",
    "b=('apple','ball','cat','dog')\n",
    "print(a)\n",
    "print(b)\n",
    "print(t)"
   ]
  },
  {
   "cell_type": "code",
   "execution_count": 2,
   "id": "b0c3f3d0",
   "metadata": {},
   "outputs": [
    {
     "name": "stdout",
     "output_type": "stream",
     "text": [
      "<class 'tuple'>\n",
      "<class 'tuple'>\n"
     ]
    }
   ],
   "source": [
    "print(type(a))\n",
    "print(type(b))"
   ]
  },
  {
   "cell_type": "code",
   "execution_count": 3,
   "id": "834661ab",
   "metadata": {},
   "outputs": [],
   "source": [
    "# tuple\n",
    "# indexed\n",
    "# multiple values\n",
    "# duplicate\n",
    "# orderd\n",
    "# imutable"
   ]
  },
  {
   "cell_type": "code",
   "execution_count": 4,
   "id": "a1f67798",
   "metadata": {},
   "outputs": [
    {
     "name": "stdout",
     "output_type": "stream",
     "text": [
      "cat\n"
     ]
    }
   ],
   "source": [
    "a=('apple','ball','cat','dog')\n",
    "print(a[2])"
   ]
  },
  {
   "cell_type": "code",
   "execution_count": 5,
   "id": "edd82dc0",
   "metadata": {},
   "outputs": [
    {
     "data": {
      "text/plain": [
       "('apple', 'ball', 'cat', 'dog', 'apple')"
      ]
     },
     "execution_count": 5,
     "metadata": {},
     "output_type": "execute_result"
    }
   ],
   "source": [
    "a=('apple','ball','cat','dog','apple')\n",
    "a"
   ]
  },
  {
   "cell_type": "code",
   "execution_count": 6,
   "id": "7d1ec86a",
   "metadata": {},
   "outputs": [],
   "source": [
    "#cant update create create"
   ]
  },
  {
   "cell_type": "code",
   "execution_count": 7,
   "id": "ee271075",
   "metadata": {},
   "outputs": [
    {
     "name": "stdout",
     "output_type": "stream",
     "text": [
      "apple\n",
      "ball\n",
      "cat\n",
      "dog\n",
      "apple\n"
     ]
    }
   ],
   "source": [
    "a=('apple','ball','cat','dog','apple')\n",
    "for i in a:\n",
    "    print(i)"
   ]
  },
  {
   "cell_type": "code",
   "execution_count": 8,
   "id": "594991fc",
   "metadata": {},
   "outputs": [
    {
     "name": "stdout",
     "output_type": "stream",
     "text": [
      "('apple', 'ball', 'cat', 'dog')\n"
     ]
    }
   ],
   "source": [
    "a=('apple','ball')\n",
    "b=('cat','dog')\n",
    "c=a+b\n",
    "print(c)"
   ]
  },
  {
   "cell_type": "code",
   "execution_count": 9,
   "id": "43436a63",
   "metadata": {},
   "outputs": [
    {
     "name": "stdout",
     "output_type": "stream",
     "text": [
      "<class 'str'>\n"
     ]
    }
   ],
   "source": [
    "b=('cat')\n",
    "print(type(b))"
   ]
  },
  {
   "cell_type": "code",
   "execution_count": 10,
   "id": "3c5b2015",
   "metadata": {},
   "outputs": [
    {
     "name": "stdout",
     "output_type": "stream",
     "text": [
      "<class 'tuple'>\n"
     ]
    }
   ],
   "source": [
    "b=('cat',)\n",
    "print(type(b))"
   ]
  },
  {
   "cell_type": "code",
   "execution_count": 12,
   "id": "1b53a93d",
   "metadata": {},
   "outputs": [
    {
     "name": "stdout",
     "output_type": "stream",
     "text": [
      "enetr the value of n: 2\n",
      "eneter the value of x: cat\n",
      "eneter the value of x: dog\n",
      "('cat', 'dog')\n"
     ]
    }
   ],
   "source": [
    "y=()\n",
    "n=int(input('enetr the value of n: '))\n",
    "for i in range(n):\n",
    "    x=input('eneter the value of x: ')\n",
    "    y=y+(x,)\n",
    "print(y)\n",
    "    "
   ]
  },
  {
   "cell_type": "code",
   "execution_count": 13,
   "id": "a7f6c114",
   "metadata": {},
   "outputs": [],
   "source": [
    "#to update create create covert to list"
   ]
  },
  {
   "cell_type": "code",
   "execution_count": 14,
   "id": "2601773e",
   "metadata": {},
   "outputs": [
    {
     "data": {
      "text/plain": [
       "['apple', 'ball', 'cat', 'dog']"
      ]
     },
     "execution_count": 14,
     "metadata": {},
     "output_type": "execute_result"
    }
   ],
   "source": [
    "a=('apple', 'ball', 'cat', 'dog')\n",
    "list(a)"
   ]
  },
  {
   "cell_type": "code",
   "execution_count": 18,
   "id": "ac5a63e3",
   "metadata": {},
   "outputs": [
    {
     "data": {
      "text/plain": [
       "['h', 'e', 'l', 'l', 'o', ' ', 'w', 'o', 'r', 'l', 'd']"
      ]
     },
     "execution_count": 18,
     "metadata": {},
     "output_type": "execute_result"
    }
   ],
   "source": [
    "a='hello world'\n",
    "b=list(a)\n",
    "b\n"
   ]
  },
  {
   "cell_type": "code",
   "execution_count": 19,
   "id": "a687939c",
   "metadata": {},
   "outputs": [
    {
     "data": {
      "text/plain": [
       "('h', 'e', 'l', 'l', 'o', ' ', 'w', 'o', 'r', 'l', 'd')"
      ]
     },
     "execution_count": 19,
     "metadata": {},
     "output_type": "execute_result"
    }
   ],
   "source": [
    "a='hello world'\n",
    "b=tuple(a)\n",
    "b"
   ]
  },
  {
   "cell_type": "code",
   "execution_count": 20,
   "id": "197d8f9f",
   "metadata": {},
   "outputs": [
    {
     "data": {
      "text/plain": [
       "('ball', 'cat', 'dog')"
      ]
     },
     "execution_count": 20,
     "metadata": {},
     "output_type": "execute_result"
    }
   ],
   "source": [
    "a=('apple', 'ball', 'cat', 'dog')\n",
    "b=list(a)\n",
    "del b[0]\n",
    "a=tuple(b)\n",
    "a"
   ]
  },
  {
   "cell_type": "code",
   "execution_count": 22,
   "id": "94875b18",
   "metadata": {},
   "outputs": [
    {
     "data": {
      "text/plain": [
       "('hello', 'world')"
      ]
     },
     "execution_count": 22,
     "metadata": {},
     "output_type": "execute_result"
    }
   ],
   "source": [
    "def cal():\n",
    "    return 'hello','world'\n",
    "cal()"
   ]
  },
  {
   "cell_type": "code",
   "execution_count": 24,
   "id": "5ee772e4",
   "metadata": {},
   "outputs": [
    {
     "name": "stdout",
     "output_type": "stream",
     "text": [
      "hello\n",
      "world\n"
     ]
    }
   ],
   "source": [
    "x,y=cal()\n",
    "print(x)\n",
    "print(y)"
   ]
  },
  {
   "cell_type": "code",
   "execution_count": 25,
   "id": "4f058672",
   "metadata": {},
   "outputs": [
    {
     "data": {
      "text/plain": [
       "(('ram', 22, 'kathmandu'), ('hari', 24, 'bagmati'), ('sita', 55, 'basantaput'))"
      ]
     },
     "execution_count": 25,
     "metadata": {},
     "output_type": "execute_result"
    }
   ],
   "source": [
    "a=((1,2,3),\n",
    "   (4,5,6),\n",
    "   (7,8,9))\n",
    "b=(('ram',22,'kathmandu'),\n",
    "  ('hari',24,'bagmati'),\n",
    "   ('sita',55,'basantaput'))\n",
    "b"
   ]
  },
  {
   "cell_type": "code",
   "execution_count": 26,
   "id": "ac144ed9",
   "metadata": {},
   "outputs": [
    {
     "data": {
      "text/plain": [
       "[('ram', 22, 'kathmandu'), ('hari', 24, 'bagmati'), ('sita', 55, 'basantaput')]"
      ]
     },
     "execution_count": 26,
     "metadata": {},
     "output_type": "execute_result"
    }
   ],
   "source": [
    "b=(('ram',22,'kathmandu'),\n",
    "  ('hari',24,'bagmati'),\n",
    "   ('sita',55,'basantaput'))\n",
    "list(b)"
   ]
  },
  {
   "cell_type": "code",
   "execution_count": 27,
   "id": "95c930ad",
   "metadata": {},
   "outputs": [
    {
     "data": {
      "text/plain": [
       "[['ram', 22, 'kathmandu'], ['hari', 24, 'bagmati'], ['sita', 55, 'basantaput']]"
      ]
     },
     "execution_count": 27,
     "metadata": {},
     "output_type": "execute_result"
    }
   ],
   "source": [
    "l=[]\n",
    "b=(('ram',22,'kathmandu'),\n",
    "  ('hari',24,'bagmati'),\n",
    "   ('sita',55,'basantaput'))\n",
    "b=list(b)\n",
    "for i in b:\n",
    "    l.append(list(i))\n",
    "l\n"
   ]
  },
  {
   "cell_type": "code",
   "execution_count": 34,
   "id": "fa82be43",
   "metadata": {},
   "outputs": [
    {
     "data": {
      "text/plain": [
       "(('ram', 22, 'kathmandu'), ('hari', 24, 'bagmati'), ('sita', 55, 'basantaput'))"
      ]
     },
     "execution_count": 34,
     "metadata": {},
     "output_type": "execute_result"
    }
   ],
   "source": [
    "l=()\n",
    "b=[['ram', 22, 'kathmandu'], ['hari', 24, 'bagmati'], ['sita', 55, 'basantaput']]\n",
    "b=tuple(b)\n",
    "for i in b:\n",
    "    l=l+(tuple(i),)\n",
    "l\n"
   ]
  },
  {
   "cell_type": "code",
   "execution_count": 36,
   "id": "f70a2a75",
   "metadata": {},
   "outputs": [
    {
     "name": "stdout",
     "output_type": "stream",
     "text": [
      "enetr r: 2\n",
      "enetr c: 2\n",
      "eneter the value of x: 1\n",
      "[1]\n",
      "eneter the value of x: 2\n",
      "[1, 2]\n",
      "[[1, 2]]\n",
      "eneter the value of x: 3\n",
      "[3]\n",
      "eneter the value of x: 4\n",
      "[3, 4]\n",
      "[[1, 2], [3, 4]]\n"
     ]
    }
   ],
   "source": [
    "r=int(input('enetr r: '))\n",
    "c=int(input('enetr c: '))\n",
    "z=[]                         #[[1,2,3],[4,5,6],[]]\n",
    "for i in range (r):\n",
    "    y=[]                     #[7,8,9]\n",
    "    for j in range(c):\n",
    "        x=int(input('eneter the value of x: '))\n",
    "        y.append(x)\n",
    "        print(y)\n",
    "    z.append(y)\n",
    "    print(z)"
   ]
  },
  {
   "cell_type": "code",
   "execution_count": null,
   "id": "8b6fef2e",
   "metadata": {},
   "outputs": [],
   "source": []
  }
 ],
 "metadata": {
  "kernelspec": {
   "display_name": "Python 3",
   "language": "python",
   "name": "python3"
  },
  "language_info": {
   "codemirror_mode": {
    "name": "ipython",
    "version": 3
   },
   "file_extension": ".py",
   "mimetype": "text/x-python",
   "name": "python",
   "nbconvert_exporter": "python",
   "pygments_lexer": "ipython3",
   "version": "3.8.8"
  }
 },
 "nbformat": 4,
 "nbformat_minor": 5
}
