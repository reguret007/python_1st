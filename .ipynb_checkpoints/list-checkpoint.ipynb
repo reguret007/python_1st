{
 "cells": [
  {
   "cell_type": "code",
   "execution_count": 1,
   "id": "0d746c8e",
   "metadata": {},
   "outputs": [],
   "source": [
    "# list\n",
    "# indexed\n",
    "# orderd\n",
    "# multiple data\n",
    "# duplicate data\n",
    "# mutable"
   ]
  },
  {
   "cell_type": "code",
   "execution_count": 3,
   "id": "622d5ca8",
   "metadata": {},
   "outputs": [
    {
     "name": "stdout",
     "output_type": "stream",
     "text": [
      "['apple', 'ballcat', 'dog']\n",
      "[1, 2, 3, 4, 5]\n",
      "<class 'list'>\n",
      "<class 'list'>\n"
     ]
    }
   ],
   "source": [
    "a=['apple','ball','cat','dog']\n",
    "b=[1,2,3,4,5]\n",
    "print(a)\n",
    "print(b)\n",
    "print(type(a))\n",
    "print(type(b))"
   ]
  },
  {
   "cell_type": "code",
   "execution_count": 5,
   "id": "f25e180c",
   "metadata": {},
   "outputs": [
    {
     "name": "stdout",
     "output_type": "stream",
     "text": [
      "ball\n"
     ]
    }
   ],
   "source": [
    "a=['apple','ball','cat','dog']\n",
    "print(a[1])"
   ]
  },
  {
   "cell_type": "code",
   "execution_count": 10,
   "id": "42f4281f",
   "metadata": {},
   "outputs": [
    {
     "data": {
      "text/plain": [
       "['apple', 'ball', 'cat']"
      ]
     },
     "execution_count": 10,
     "metadata": {},
     "output_type": "execute_result"
    }
   ],
   "source": [
    "a=['apple','ball','cat','dog']\n",
    "a[0:3]"
   ]
  },
  {
   "cell_type": "code",
   "execution_count": 9,
   "id": "7e66c05f",
   "metadata": {},
   "outputs": [
    {
     "data": {
      "text/plain": [
       "['apple', 'cat']"
      ]
     },
     "execution_count": 9,
     "metadata": {},
     "output_type": "execute_result"
    }
   ],
   "source": [
    "a=['apple','ball','cat','dog']\n",
    "a[0:4:2]"
   ]
  },
  {
   "cell_type": "code",
   "execution_count": 11,
   "id": "2b6aebef",
   "metadata": {},
   "outputs": [
    {
     "name": "stdout",
     "output_type": "stream",
     "text": [
      "['apple', 'ball', 'cat', 'dog', 'fish']\n"
     ]
    }
   ],
   "source": [
    "a=['apple','ball','cat','dog']\n",
    "b=['fish']\n",
    "c=a+b\n",
    "print(c)"
   ]
  },
  {
   "cell_type": "code",
   "execution_count": 12,
   "id": "1a34a690",
   "metadata": {},
   "outputs": [
    {
     "name": "stdout",
     "output_type": "stream",
     "text": [
      "['apple', 'ball', 'cat', 'dog', 'apple', 'ball', 'cat', 'dog']\n"
     ]
    }
   ],
   "source": [
    "a=['apple','ball','cat','dog']\n",
    "print(a*2)"
   ]
  },
  {
   "cell_type": "code",
   "execution_count": 13,
   "id": "cf7d967e",
   "metadata": {},
   "outputs": [
    {
     "name": "stdout",
     "output_type": "stream",
     "text": [
      "['ant', 'ball', 'cat', 'dog']\n"
     ]
    }
   ],
   "source": [
    "a=['apple','ball','cat','dog']\n",
    "a[0]='ant'\n",
    "print(a)"
   ]
  },
  {
   "cell_type": "code",
   "execution_count": 14,
   "id": "aaed1e62",
   "metadata": {},
   "outputs": [
    {
     "name": "stdout",
     "output_type": "stream",
     "text": [
      "apple\n",
      "ball\n",
      "cat\n",
      "dog\n"
     ]
    }
   ],
   "source": [
    "a=['apple','ball','cat','dog']\n",
    "for i in (a):\n",
    "    print(i)"
   ]
  },
  {
   "cell_type": "code",
   "execution_count": 16,
   "id": "3e39901a",
   "metadata": {},
   "outputs": [
    {
     "name": "stdout",
     "output_type": "stream",
     "text": [
      "apple\n",
      "ball\n",
      "cat\n",
      "dog\n"
     ]
    }
   ],
   "source": [
    "a=['apple','ball','cat','dog']\n",
    "for i in range (len(a)):\n",
    "    print(a[i])"
   ]
  },
  {
   "cell_type": "code",
   "execution_count": 17,
   "id": "28a7ec73",
   "metadata": {},
   "outputs": [
    {
     "name": "stdout",
     "output_type": "stream",
     "text": [
      "yes 1\n"
     ]
    }
   ],
   "source": [
    "a=['apple','ball','cat','dog']\n",
    "if 'apple' in a:\n",
    "    print('yes',a.count('apple'))"
   ]
  },
  {
   "cell_type": "code",
   "execution_count": 18,
   "id": "71ca1243",
   "metadata": {},
   "outputs": [
    {
     "data": {
      "text/plain": [
       "['apple', 'ball']"
      ]
     },
     "execution_count": 18,
     "metadata": {},
     "output_type": "execute_result"
    }
   ],
   "source": [
    "l=[]\n",
    "x=['apple']\n",
    "l+x+['ball']"
   ]
  },
  {
   "cell_type": "code",
   "execution_count": 19,
   "id": "221257ea",
   "metadata": {},
   "outputs": [
    {
     "name": "stdout",
     "output_type": "stream",
     "text": [
      "enetr the value of n: 5\n",
      "enetr the value of x: 1\n",
      "enetr the value of x: 2\n",
      "enetr the value of x: 3\n",
      "enetr the value of x: 4\n",
      "enetr the value of x: 5\n",
      "[1, 2, 3, 4, 5]\n"
     ]
    }
   ],
   "source": [
    "l=[]\n",
    "n=int(input('enetr the value of n: '))\n",
    "for i in range(n):\n",
    "    x=int(input('enetr the value of x: '))\n",
    "    l=l+[x]\n",
    "print(l)\n",
    "    "
   ]
  },
  {
   "cell_type": "code",
   "execution_count": 20,
   "id": "cb37c18a",
   "metadata": {},
   "outputs": [
    {
     "name": "stdout",
     "output_type": "stream",
     "text": [
      "sum of numbers:  15\n",
      "minimum value of l:  1\n",
      "max value of l:  5\n"
     ]
    }
   ],
   "source": [
    "print('sum of numbers: ',sum(l))\n",
    "print('minimum value of l: ',min(l))\n",
    "print('max value of l: ',max(l))"
   ]
  },
  {
   "cell_type": "code",
   "execution_count": 21,
   "id": "e2cd42a1",
   "metadata": {},
   "outputs": [
    {
     "name": "stdout",
     "output_type": "stream",
     "text": [
      "enetr the value of n: 5\n",
      "enetr name: ram\n",
      "enetr name: hari\n",
      "enetr name: sita\n",
      "enetr name: gita\n",
      "enetr name: raman\n",
      "['ram', 'hari', 'sita', 'gita', 'raman']\n"
     ]
    }
   ],
   "source": [
    "l=[]\n",
    "n=int(input('enetr the value of n: '))\n",
    "for i in range(n):\n",
    "    x=(input('enetr name: '))\n",
    "    l=l+[x]\n",
    "print(l)\n",
    "    "
   ]
  },
  {
   "cell_type": "code",
   "execution_count": 24,
   "id": "1dec10c2",
   "metadata": {},
   "outputs": [
    {
     "name": "stdout",
     "output_type": "stream",
     "text": [
      "['gita', 'hari', 'ram', 'raman', 'sita']\n"
     ]
    }
   ],
   "source": [
    "l.sort()\n",
    "print(l)"
   ]
  },
  {
   "cell_type": "code",
   "execution_count": 25,
   "id": "119ab267",
   "metadata": {},
   "outputs": [
    {
     "name": "stdout",
     "output_type": "stream",
     "text": [
      "enetr the value of n: 5\n",
      "enetr the value of x: 100\n",
      "enetr the value of x: 500\n",
      "enetr the value of x: 20\n",
      "enetr the value of x: 50\n",
      "enetr the value of x: 10\n",
      "[10, 20, 50, 100, 500]\n",
      "[500, 100, 50, 20, 10]\n"
     ]
    }
   ],
   "source": [
    "l=[]\n",
    "n=int(input('enetr the value of n: '))\n",
    "for i in range(n):\n",
    "    x=int(input('enetr the value of x: '))\n",
    "    l=l+[x]\n",
    "l.sort()\n",
    "print(l)\n",
    "l.reverse()\n",
    "print(l)\n",
    "    "
   ]
  },
  {
   "cell_type": "code",
   "execution_count": 26,
   "id": "b611b04e",
   "metadata": {},
   "outputs": [
    {
     "name": "stdout",
     "output_type": "stream",
     "text": [
      "['ram', 'hari', 'sita', 'gita', 'raman', 'sabin']\n"
     ]
    }
   ],
   "source": [
    "#append insert extend\n",
    "#append\n",
    "a=['ram', 'hari', 'sita', 'gita', 'raman']\n",
    "a.append('sabin')\n",
    "print(a)"
   ]
  },
  {
   "cell_type": "code",
   "execution_count": 27,
   "id": "28a61c6f",
   "metadata": {},
   "outputs": [
    {
     "name": "stdout",
     "output_type": "stream",
     "text": [
      "['ram', 'sabin', 'hari', 'sita', 'gita', 'raman']\n"
     ]
    }
   ],
   "source": [
    "#insert\n",
    "a=['ram', 'hari', 'sita', 'gita', 'raman']\n",
    "a.insert(1,'sabin')\n",
    "print(a)"
   ]
  },
  {
   "cell_type": "code",
   "execution_count": 28,
   "id": "1bf3e174",
   "metadata": {},
   "outputs": [
    {
     "name": "stdout",
     "output_type": "stream",
     "text": [
      "['ram', 'hari', 'sita', 'gita', 'raman', 1, 2, 3, 4]\n"
     ]
    }
   ],
   "source": [
    "#extend\n",
    "a=['ram', 'hari', 'sita', 'gita', 'raman']\n",
    "b=[1,2,3,4]\n",
    "a.extend(b)\n",
    "print(a)"
   ]
  },
  {
   "cell_type": "code",
   "execution_count": 29,
   "id": "39f78155",
   "metadata": {},
   "outputs": [
    {
     "name": "stdout",
     "output_type": "stream",
     "text": [
      "enetr the value of n: 3\n",
      "enetr name: ram\n",
      "['ram']\n",
      "enetr name: shyam\n",
      "['ram', 'shyam']\n",
      "enetr name: hari\n",
      "['ram', 'shyam', 'hari']\n"
     ]
    }
   ],
   "source": [
    "l=[]\n",
    "n=int(input('enetr the value of n: '))\n",
    "for i in range(n):\n",
    "    x=(input('enetr name: '))\n",
    "    l.append(x)\n",
    "    print(l)"
   ]
  },
  {
   "cell_type": "code",
   "execution_count": 1,
   "id": "4c5370a7",
   "metadata": {},
   "outputs": [
    {
     "data": {
      "text/plain": [
       "0"
      ]
     },
     "execution_count": 1,
     "metadata": {},
     "output_type": "execute_result"
    }
   ],
   "source": [
    "a=['ram', 'hari', 'sita', 'gita', 'raman']\n",
    "a.index('ram')"
   ]
  },
  {
   "cell_type": "code",
   "execution_count": 2,
   "id": "b1fb3e9e",
   "metadata": {},
   "outputs": [],
   "source": [
    "#del remove() pop()\n",
    "# list tinside list"
   ]
  },
  {
   "cell_type": "code",
   "execution_count": 3,
   "id": "858680ff",
   "metadata": {},
   "outputs": [
    {
     "name": "stdout",
     "output_type": "stream",
     "text": [
      "['hari', 'sita', 'gita', 'raman']\n"
     ]
    }
   ],
   "source": [
    "a=['ram', 'hari', 'sita', 'gita', 'raman']\n",
    "del a[0]\n",
    "print(a)"
   ]
  },
  {
   "cell_type": "code",
   "execution_count": 4,
   "id": "9d3331cb",
   "metadata": {},
   "outputs": [
    {
     "name": "stdout",
     "output_type": "stream",
     "text": [
      "['sita', 'gita', 'raman']\n"
     ]
    }
   ],
   "source": [
    "a=['ram', 'hari', 'sita', 'gita', 'raman']\n",
    "del a[0:2]\n",
    "print(a)"
   ]
  },
  {
   "cell_type": "code",
   "execution_count": 5,
   "id": "d3aa6359",
   "metadata": {},
   "outputs": [
    {
     "name": "stdout",
     "output_type": "stream",
     "text": [
      "['hari', 'sita', 'gita', 'raman']\n"
     ]
    }
   ],
   "source": [
    "a=['ram', 'hari', 'sita', 'gita', 'raman']\n",
    "a.remove('ram')\n",
    "print(a)"
   ]
  },
  {
   "cell_type": "code",
   "execution_count": 6,
   "id": "55d35a63",
   "metadata": {},
   "outputs": [
    {
     "name": "stdout",
     "output_type": "stream",
     "text": [
      "['hari', 'sita', 'gita', 'raman']\n"
     ]
    }
   ],
   "source": [
    "a=['ram', 'hari', 'sita', 'gita', 'raman']\n",
    "a.pop(0)\n",
    "print(a)"
   ]
  },
  {
   "cell_type": "code",
   "execution_count": 7,
   "id": "3401ecf8",
   "metadata": {},
   "outputs": [
    {
     "name": "stdout",
     "output_type": "stream",
     "text": [
      "['hari', 'sita', 'gita', 'raman']\n"
     ]
    }
   ],
   "source": [
    "a=['ram', 'hari', 'sita', 'gita', 'raman','ram']\n",
    "for i in a:\n",
    "    if i=='ram':\n",
    "        a.remove('ram')\n",
    "print(a)"
   ]
  },
  {
   "cell_type": "code",
   "execution_count": 9,
   "id": "dcb09b9e",
   "metadata": {},
   "outputs": [
    {
     "name": "stdout",
     "output_type": "stream",
     "text": [
      "0\n",
      "5\n"
     ]
    }
   ],
   "source": [
    "a=['ram', 'hari', 'sita', 'gita', 'raman','ram']\n",
    "l=len(a)\n",
    "for i in range(l):\n",
    "    if a[i]=='ram':\n",
    "        print(i)"
   ]
  },
  {
   "cell_type": "code",
   "execution_count": 10,
   "id": "3b7c5268",
   "metadata": {},
   "outputs": [
    {
     "name": "stdout",
     "output_type": "stream",
     "text": [
      "([1, 2, 3], [4, 5, 6], [7, 8, 9])\n"
     ]
    }
   ],
   "source": [
    "#list inside list\n",
    "a=[1,2,3],[4,5,6],[7,8,9]\n",
    "print(a)"
   ]
  },
  {
   "cell_type": "code",
   "execution_count": 11,
   "id": "c87cf9f4",
   "metadata": {},
   "outputs": [
    {
     "name": "stdout",
     "output_type": "stream",
     "text": [
      "['ram', 22, 'kathmandu']\n",
      "['sita', 21, 'lalitpur']\n",
      "['hari', 25, 'bhakhtapur']\n"
     ]
    }
   ],
   "source": [
    "a=[['ram',22,'kathmandu'],['sita',21,'lalitpur'],['hari',25,'bhakhtapur']]\n",
    "for i in a:\n",
    "    print(i)"
   ]
  },
  {
   "cell_type": "code",
   "execution_count": 12,
   "id": "ce5483ff",
   "metadata": {},
   "outputs": [
    {
     "name": "stdout",
     "output_type": "stream",
     "text": [
      "['sita', 21, 'lalitpur']\n"
     ]
    }
   ],
   "source": [
    "print(a[1])"
   ]
  },
  {
   "cell_type": "code",
   "execution_count": 14,
   "id": "c279fb79",
   "metadata": {},
   "outputs": [
    {
     "name": "stdout",
     "output_type": "stream",
     "text": [
      "enetr the value of n: 2\n",
      "enter name: ram\n",
      "enetr age: 22\n",
      "enetr address: kathmandu\n",
      "enter name: sita\n",
      "enetr age: 21\n",
      "enetr address: lalitpur\n",
      "[['ram', 22, 'kathmandu'], ['sita', 21, 'lalitpur']]\n"
     ]
    }
   ],
   "source": [
    "info=[]\n",
    "n=int(input('enetr the value of n: '))\n",
    "for i in range(n):\n",
    "    name=input('enter name: ')\n",
    "    age=int(input('enetr age: '))\n",
    "    add=input('enetr address: ')\n",
    "    data=[name,age,add]\n",
    "    info.append(data)\n",
    "print(info)"
   ]
  },
  {
   "cell_type": "code",
   "execution_count": 18,
   "id": "8c6dcea5",
   "metadata": {},
   "outputs": [
    {
     "data": {
      "text/plain": [
       "[['ram prashad', 22, 'kathmandu'],\n",
       " ['sita', 21, 'lalitpur'],\n",
       " ['hari', 25, 'bhakhtapur']]"
      ]
     },
     "execution_count": 18,
     "metadata": {},
     "output_type": "execute_result"
    }
   ],
   "source": [
    "a=[['ram',22,'kathmandu'],['sita',21,'lalitpur'],['hari',25,'bhakhtapur']]\n",
    "a[0][0]='ram prashad'\n",
    "a\n"
   ]
  },
  {
   "cell_type": "code",
   "execution_count": 19,
   "id": "896e10cf",
   "metadata": {},
   "outputs": [
    {
     "data": {
      "text/plain": [
       "[['rama', 50, 'budanil'], ['sita', 21, 'lalitpur'], ['hari', 25, 'bhakhtapur']]"
      ]
     },
     "execution_count": 19,
     "metadata": {},
     "output_type": "execute_result"
    }
   ],
   "source": [
    "a=[['ram',22,'kathmandu'],['sita',21,'lalitpur'],['hari',25,'bhakhtapur']]\n",
    "a[0]=['rama',50,'budanil']\n",
    "a"
   ]
  },
  {
   "cell_type": "code",
   "execution_count": 20,
   "id": "e337ea80",
   "metadata": {},
   "outputs": [
    {
     "name": "stdout",
     "output_type": "stream",
     "text": [
      "enetr name:sita\n",
      "['sita', 21, 'lalitpur']\n"
     ]
    }
   ],
   "source": [
    "a=[['ram',22,'kathmandu'],['sita',21,'lalitpur'],['hari',25,'bhakhtapur']]\n",
    "name=input('enetr name:')\n",
    "for i in a:\n",
    "    if name in i:\n",
    "        print(i)"
   ]
  },
  {
   "cell_type": "code",
   "execution_count": 22,
   "id": "78a1ee13",
   "metadata": {},
   "outputs": [
    {
     "name": "stdout",
     "output_type": "stream",
     "text": [
      "enetr name:ram\n",
      "['ram', 22, 'kathmandu']\n"
     ]
    }
   ],
   "source": [
    "a=[['ram',22,'kathmandu'],['sita',21,'lalitpur'],['hari',25,'bhakhtapur']]\n",
    "name=input('enetr name:')\n",
    "for i in a:\n",
    "    if name in i and i[1]>20 and i[2]=='kathmandu':\n",
    "        print(i)"
   ]
  },
  {
   "cell_type": "code",
   "execution_count": 25,
   "id": "68c01b04",
   "metadata": {},
   "outputs": [
    {
     "name": "stdout",
     "output_type": "stream",
     "text": [
      "eneter the vealue of n:2\n",
      "enetr your name: apple\n",
      "enetr price: 250\n",
      "eneter quantity: 2\n",
      "enetr your name: banana\n",
      "enetr price: 1\n",
      "eneter quantity: 100\n",
      "[['apple', 250, 2, 500], ['banana', 1, 100, 100]]\n"
     ]
    }
   ],
   "source": [
    "bill=[]\n",
    "n=int(input('eneter the vealue of n:'))\n",
    "for i in range (n):\n",
    "    \n",
    "    name=input('enetr your name: ')\n",
    "    price=int(input('enetr price: '))\n",
    "    qunatity=int(input('eneter quantity: '))\n",
    "    total=price* qunatity\n",
    "    bill.append([name,price,qunatity,total])\n",
    "        \n",
    "print(bill)"
   ]
  },
  {
   "cell_type": "code",
   "execution_count": null,
   "id": "3a2f8fb5",
   "metadata": {},
   "outputs": [],
   "source": [
    "# #WAP to create a matrix using list inside list\n",
    "# row=3\n",
    "# coloum=3\n",
    "\n",
    "# matrix=[[1,2,3],\n",
    "#         [4,5,6],\n",
    "#         [7,8,9]]\n",
    "# #for i\n",
    "#        for i\n"
   ]
  }
 ],
 "metadata": {
  "kernelspec": {
   "display_name": "Python 3",
   "language": "python",
   "name": "python3"
  },
  "language_info": {
   "codemirror_mode": {
    "name": "ipython",
    "version": 3
   },
   "file_extension": ".py",
   "mimetype": "text/x-python",
   "name": "python",
   "nbconvert_exporter": "python",
   "pygments_lexer": "ipython3",
   "version": "3.8.8"
  }
 },
 "nbformat": 4,
 "nbformat_minor": 5
}
