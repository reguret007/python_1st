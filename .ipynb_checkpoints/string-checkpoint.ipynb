{
 "cells": [
  {
   "cell_type": "code",
   "execution_count": 1,
   "id": "e4eb0a1e",
   "metadata": {},
   "outputs": [
    {
     "name": "stdout",
     "output_type": "stream",
     "text": [
      "hello world\n",
      "helllo world\n"
     ]
    }
   ],
   "source": [
    "a=\"hello world\"\n",
    "b='helllo world'\n",
    "print(a)\n",
    "print(b)"
   ]
  },
  {
   "cell_type": "code",
   "execution_count": 2,
   "id": "60cba3a9",
   "metadata": {},
   "outputs": [
    {
     "name": "stdout",
     "output_type": "stream",
     "text": [
      "<class 'str'>\n"
     ]
    }
   ],
   "source": [
    "print(type(a))"
   ]
  },
  {
   "cell_type": "code",
   "execution_count": 3,
   "id": "c02303cb",
   "metadata": {},
   "outputs": [
    {
     "name": "stdout",
     "output_type": "stream",
     "text": [
      "hello world\n"
     ]
    }
   ],
   "source": [
    "a='hello '\n",
    "b='world'\n",
    "c=a+b #string contanication\n",
    "print(c)"
   ]
  },
  {
   "cell_type": "code",
   "execution_count": 6,
   "id": "518f6c7a",
   "metadata": {},
   "outputs": [
    {
     "name": "stdout",
     "output_type": "stream",
     "text": [
      "hello world\n",
      "hello world\n",
      "hello world\n",
      "hello world\n",
      "hello world\n",
      "hello world\n",
      "hello world\n",
      "hello world\n",
      "hello world\n",
      "hello world\n",
      "\n"
     ]
    }
   ],
   "source": [
    "a='hello world\\n'\n",
    "print(a*10)"
   ]
  },
  {
   "cell_type": "code",
   "execution_count": 7,
   "id": "c15373af",
   "metadata": {},
   "outputs": [
    {
     "name": "stdout",
     "output_type": "stream",
     "text": [
      "hello10\n"
     ]
    }
   ],
   "source": [
    "a='hello'\n",
    "b=str(10)\n",
    "c=a+b\n",
    "print(c)"
   ]
  },
  {
   "cell_type": "code",
   "execution_count": 8,
   "id": "49513b6b",
   "metadata": {},
   "outputs": [
    {
     "name": "stdout",
     "output_type": "stream",
     "text": [
      "enter the value of x: apple\n",
      "apple\n"
     ]
    }
   ],
   "source": [
    "x=input('enter the value of x: ')\n",
    "print(x)"
   ]
  },
  {
   "cell_type": "code",
   "execution_count": 9,
   "id": "5e3c5bb6",
   "metadata": {},
   "outputs": [
    {
     "name": "stdout",
     "output_type": "stream",
     "text": [
      "h\n"
     ]
    }
   ],
   "source": [
    "a='hello world'\n",
    "print(a[0])"
   ]
  },
  {
   "cell_type": "code",
   "execution_count": 10,
   "id": "e1c981c0",
   "metadata": {},
   "outputs": [
    {
     "name": "stdout",
     "output_type": "stream",
     "text": [
      "hello\n"
     ]
    }
   ],
   "source": [
    "a='hello world'\n",
    "print(a[0:5])   #slicing"
   ]
  },
  {
   "cell_type": "code",
   "execution_count": 11,
   "id": "70c913e4",
   "metadata": {},
   "outputs": [
    {
     "name": "stdout",
     "output_type": "stream",
     "text": [
      "hlowr\n"
     ]
    }
   ],
   "source": [
    "a='hello world'\n",
    "print(a[0:10:2])"
   ]
  },
  {
   "cell_type": "code",
   "execution_count": 14,
   "id": "c906157a",
   "metadata": {},
   "outputs": [
    {
     "name": "stdout",
     "output_type": "stream",
     "text": [
      "el ol\n"
     ]
    }
   ],
   "source": [
    "a='hello world'\n",
    "print(a[1:11:2])"
   ]
  },
  {
   "cell_type": "code",
   "execution_count": 15,
   "id": "76b623ef",
   "metadata": {},
   "outputs": [
    {
     "data": {
      "text/plain": [
       "'l'"
      ]
     },
     "execution_count": 15,
     "metadata": {},
     "output_type": "execute_result"
    }
   ],
   "source": [
    "a='hello world'\n",
    "a[-2]"
   ]
  },
  {
   "cell_type": "code",
   "execution_count": 16,
   "id": "c90641c5",
   "metadata": {},
   "outputs": [
    {
     "name": "stdout",
     "output_type": "stream",
     "text": [
      "\n"
     ]
    }
   ],
   "source": [
    "a='hello world'\n",
    "print(a[-1:-2])#it isnt possibal"
   ]
  },
  {
   "cell_type": "code",
   "execution_count": 17,
   "id": "21f2ca05",
   "metadata": {},
   "outputs": [
    {
     "name": "stdout",
     "output_type": "stream",
     "text": [
      "dlro\n"
     ]
    }
   ],
   "source": [
    "a='hello world'\n",
    "print(a[-1:-5:-1])"
   ]
  },
  {
   "cell_type": "code",
   "execution_count": 18,
   "id": "5918440d",
   "metadata": {},
   "outputs": [
    {
     "name": "stdout",
     "output_type": "stream",
     "text": [
      "dlrow olleh\n"
     ]
    }
   ],
   "source": [
    "a='hello world'\n",
    "print(a[-1::-1])#reverse string"
   ]
  },
  {
   "cell_type": "code",
   "execution_count": 19,
   "id": "47bf98e5",
   "metadata": {},
   "outputs": [
    {
     "data": {
      "text/plain": [
       "'hello i am ram. i am 40 years old'"
      ]
     },
     "execution_count": 19,
     "metadata": {},
     "output_type": "execute_result"
    }
   ],
   "source": [
    "#string formating\n",
    "a='ram'\n",
    "b=40\n",
    "info=f'hello i am {a}. i am {40} years old'\n",
    "info"
   ]
  },
  {
   "cell_type": "code",
   "execution_count": 20,
   "id": "720dfef4",
   "metadata": {},
   "outputs": [
    {
     "name": "stdout",
     "output_type": "stream",
     "text": [
      "enetr namesujin\n",
      "enetr age22\n",
      "enter adressbudanilkatha\n",
      "hello iam sujin. iam 22years. i live in budanilkatha\n"
     ]
    }
   ],
   "source": [
    "name=input('enetr name')\n",
    "age=int(input('enetr age'))\n",
    "address=input('enter adress')\n",
    "\n",
    "info=f'hello iam {name}. iam {age}years. i live in {address}'\n",
    "print(info)"
   ]
  },
  {
   "cell_type": "code",
   "execution_count": 22,
   "id": "e56d315f",
   "metadata": {},
   "outputs": [
    {
     "name": "stdout",
     "output_type": "stream",
     "text": [
      "enetr nameqwe\n",
      "enetr age23\n",
      "enter adressfsadsa\n",
      "hello iam qwe.\n",
      "iam 23years.\n",
      "i live in fsadsa\n"
     ]
    }
   ],
   "source": [
    "name=input('enetr name')\n",
    "age=int(input('enetr age'))\n",
    "address=input('enter adress')\n",
    "\n",
    "info=f'hello iam {name}.\\niam {age}years.\\ni live in {address}'\n",
    "print(info)"
   ]
  },
  {
   "cell_type": "code",
   "execution_count": 28,
   "id": "1825a4bd",
   "metadata": {},
   "outputs": [
    {
     "name": "stdout",
     "output_type": "stream",
     "text": [
      "enter the value of n: 5\n",
      "enter name: ram\n",
      "enter name: sita\n",
      "enter name: hari\n",
      "enter name: shyam\n",
      "enter name: gita\n",
      "ram sita hari shyam gita \n"
     ]
    }
   ],
   "source": [
    "names=''\n",
    "n=int(input('enter the value of n: '))\n",
    "for i in range(n):\n",
    "    name=input('enter name: ')\n",
    "    names=names+ f'{name} '\n",
    "print(names)"
   ]
  },
  {
   "cell_type": "code",
   "execution_count": 29,
   "id": "982b014f",
   "metadata": {},
   "outputs": [
    {
     "data": {
      "text/plain": [
       "'ram sita hari shyam gita '"
      ]
     },
     "execution_count": 29,
     "metadata": {},
     "output_type": "execute_result"
    }
   ],
   "source": [
    "names"
   ]
  },
  {
   "cell_type": "code",
   "execution_count": 26,
   "id": "e99f4d61",
   "metadata": {},
   "outputs": [
    {
     "name": "stdout",
     "output_type": "stream",
     "text": [
      "yes\n"
     ]
    }
   ],
   "source": [
    "if 'ram' in names:\n",
    "    print('yes')"
   ]
  },
  {
   "cell_type": "code",
   "execution_count": 27,
   "id": "bb4b4596",
   "metadata": {},
   "outputs": [
    {
     "name": "stdout",
     "output_type": "stream",
     "text": [
      "enetr name= ram\n",
      "yes\n",
      "1\n"
     ]
    }
   ],
   "source": [
    "name=input('enetr name= ')\n",
    "if name in names:\n",
    "    print('yes')\n",
    "    print(names.count(name))"
   ]
  },
  {
   "cell_type": "code",
   "execution_count": 30,
   "id": "db7e43d1",
   "metadata": {},
   "outputs": [
    {
     "name": "stdout",
     "output_type": "stream",
     "text": [
      "RAM SITA HARI SHYAM GITA \n"
     ]
    }
   ],
   "source": [
    "names='ram sita hari shyam gita '.upper()\n",
    "print(names)"
   ]
  },
  {
   "cell_type": "code",
   "execution_count": 32,
   "id": "9e278063",
   "metadata": {},
   "outputs": [
    {
     "name": "stdout",
     "output_type": "stream",
     "text": [
      "ram sita hari shyam gita  \n"
     ]
    }
   ],
   "source": [
    "names='RAM SITA HARI SHYAM GITA  '.lower()\n",
    "print(names)"
   ]
  },
  {
   "cell_type": "code",
   "execution_count": 33,
   "id": "65932d0e",
   "metadata": {},
   "outputs": [
    {
     "name": "stdout",
     "output_type": "stream",
     "text": [
      "enetr name= RAM\n",
      "ram\n",
      "1\n"
     ]
    }
   ],
   "source": [
    "name=input('enetr name= ').lower()\n",
    "if name in names:\n",
    "    print(name)\n",
    "    print(names.count(name))"
   ]
  },
  {
   "cell_type": "code",
   "execution_count": 37,
   "id": "87dfff88",
   "metadata": {},
   "outputs": [
    {
     "data": {
      "text/plain": [
       "'RAM sita hari shyam gita '"
      ]
     },
     "execution_count": 37,
     "metadata": {},
     "output_type": "execute_result"
    }
   ],
   "source": [
    "names='ram sita hari shyam gita '\n",
    "names=names.replace('ram','RAM')\n",
    "names"
   ]
  },
  {
   "cell_type": "code",
   "execution_count": 38,
   "id": "c86774af",
   "metadata": {},
   "outputs": [
    {
     "name": "stdout",
     "output_type": "stream",
     "text": [
      "RAM sita hari shyam gita \n"
     ]
    }
   ],
   "source": [
    "print(names)"
   ]
  },
  {
   "cell_type": "code",
   "execution_count": 39,
   "id": "42549a5e",
   "metadata": {},
   "outputs": [
    {
     "data": {
      "text/plain": [
       "' sita hari shyam gita '"
      ]
     },
     "execution_count": 39,
     "metadata": {},
     "output_type": "execute_result"
    }
   ],
   "source": [
    "names='ram sita hari shyam gita '\n",
    "names=names.replace('ram','')\n",
    "names"
   ]
  },
  {
   "cell_type": "code",
   "execution_count": null,
   "id": "011edbd0",
   "metadata": {},
   "outputs": [],
   "source": []
  }
 ],
 "metadata": {
  "kernelspec": {
   "display_name": "Python 3",
   "language": "python",
   "name": "python3"
  },
  "language_info": {
   "codemirror_mode": {
    "name": "ipython",
    "version": 3
   },
   "file_extension": ".py",
   "mimetype": "text/x-python",
   "name": "python",
   "nbconvert_exporter": "python",
   "pygments_lexer": "ipython3",
   "version": "3.8.8"
  }
 },
 "nbformat": 4,
 "nbformat_minor": 5
}
