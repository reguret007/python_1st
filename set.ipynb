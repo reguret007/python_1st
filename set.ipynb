{
 "cells": [
  {
   "cell_type": "code",
   "execution_count": 3,
   "id": "c0bc7773",
   "metadata": {},
   "outputs": [
    {
     "data": {
      "text/plain": [
       "set"
      ]
     },
     "execution_count": 3,
     "metadata": {},
     "output_type": "execute_result"
    }
   ],
   "source": [
    "s={1,2,3,4,5}\n",
    "type(s)"
   ]
  },
  {
   "cell_type": "code",
   "execution_count": 4,
   "id": "492687ff",
   "metadata": {},
   "outputs": [],
   "source": [
    "# #set\n",
    "# no indexing\n",
    "# no duplicate members\n",
    "# multiple\n",
    "# unordered\n",
    "# utable"
   ]
  },
  {
   "cell_type": "code",
   "execution_count": 8,
   "id": "b6141e69",
   "metadata": {},
   "outputs": [
    {
     "data": {
      "text/plain": [
       "{'apple', 'ball', 'cat', 'x-ray'}"
      ]
     },
     "execution_count": 8,
     "metadata": {},
     "output_type": "execute_result"
    }
   ],
   "source": [
    "s={'ball','apple','cat','x-ray'}\n",
    "s"
   ]
  },
  {
   "cell_type": "code",
   "execution_count": 6,
   "id": "4566bc6f",
   "metadata": {},
   "outputs": [
    {
     "name": "stdout",
     "output_type": "stream",
     "text": [
      "{'cat', 'x-ray', 'ball', 'apple'}\n"
     ]
    }
   ],
   "source": [
    "print(s)"
   ]
  },
  {
   "cell_type": "code",
   "execution_count": 9,
   "id": "d5a63c2f",
   "metadata": {},
   "outputs": [
    {
     "data": {
      "text/plain": [
       "{'apple', 'ball', 'cat', 'x-ray'}"
      ]
     },
     "execution_count": 9,
     "metadata": {},
     "output_type": "execute_result"
    }
   ],
   "source": [
    "s={'ball','apple','cat','x-ray','apple'}\n",
    "s"
   ]
  },
  {
   "cell_type": "code",
   "execution_count": 10,
   "id": "9444591b",
   "metadata": {},
   "outputs": [
    {
     "ename": "TypeError",
     "evalue": "'set' object is not subscriptable",
     "output_type": "error",
     "traceback": [
      "\u001b[1;31m---------------------------------------------------------------------------\u001b[0m",
      "\u001b[1;31mTypeError\u001b[0m                                 Traceback (most recent call last)",
      "\u001b[1;32m<ipython-input-10-c9c96910e542>\u001b[0m in \u001b[0;36m<module>\u001b[1;34m\u001b[0m\n\u001b[1;32m----> 1\u001b[1;33m \u001b[0ms\u001b[0m\u001b[1;33m[\u001b[0m\u001b[1;36m0\u001b[0m\u001b[1;33m]\u001b[0m\u001b[1;33m\u001b[0m\u001b[1;33m\u001b[0m\u001b[0m\n\u001b[0m",
      "\u001b[1;31mTypeError\u001b[0m: 'set' object is not subscriptable"
     ]
    }
   ],
   "source": [
    "s[0]#no index"
   ]
  },
  {
   "cell_type": "code",
   "execution_count": 11,
   "id": "82e2a7b4",
   "metadata": {},
   "outputs": [
    {
     "data": {
      "text/plain": [
       "{'apple', 'ball', 'cat', 'x-ray'}"
      ]
     },
     "execution_count": 11,
     "metadata": {},
     "output_type": "execute_result"
    }
   ],
   "source": [
    "s={'ball','apple','cat','x-ray','apple'}\n",
    "s.add('cat')\n",
    "s"
   ]
  },
  {
   "cell_type": "code",
   "execution_count": 12,
   "id": "bdfffe96",
   "metadata": {},
   "outputs": [
    {
     "data": {
      "text/plain": [
       "set"
      ]
     },
     "execution_count": 12,
     "metadata": {},
     "output_type": "execute_result"
    }
   ],
   "source": [
    "s=set()\n",
    "type(s)"
   ]
  },
  {
   "cell_type": "code",
   "execution_count": 13,
   "id": "9920ab75",
   "metadata": {},
   "outputs": [],
   "source": [
    "#cannot put set inside set or like list inside list"
   ]
  },
  {
   "cell_type": "code",
   "execution_count": 14,
   "id": "25a891fb",
   "metadata": {},
   "outputs": [
    {
     "data": {
      "text/plain": [
       "{'ram', 'sita'}"
      ]
     },
     "execution_count": 14,
     "metadata": {},
     "output_type": "execute_result"
    }
   ],
   "source": [
    "apple={'ram','shyam','hrai','sita','gita'}\n",
    "ms={'sabin','arju','sita','ram','ravan','nyan'}\n",
    "x=apple.intersection(ms)\n",
    "x"
   ]
  },
  {
   "cell_type": "code",
   "execution_count": 15,
   "id": "2ae3b835",
   "metadata": {},
   "outputs": [
    {
     "data": {
      "text/plain": [
       "{'arju', 'gita', 'hrai', 'nyan', 'ram', 'ravan', 'sabin', 'shyam', 'sita'}"
      ]
     },
     "execution_count": 15,
     "metadata": {},
     "output_type": "execute_result"
    }
   ],
   "source": [
    "apple={'ram','shyam','hrai','sita','gita'}\n",
    "ms={'sabin','arju','sita','ram','ravan','nyan'}\n",
    "x=apple.union(ms)\n",
    "x"
   ]
  },
  {
   "cell_type": "code",
   "execution_count": 17,
   "id": "8a481b8b",
   "metadata": {},
   "outputs": [
    {
     "data": {
      "text/plain": [
       "{'gita', 'hrai', 'shyam'}"
      ]
     },
     "execution_count": 17,
     "metadata": {},
     "output_type": "execute_result"
    }
   ],
   "source": [
    "apple.difference(ms)"
   ]
  },
  {
   "cell_type": "code",
   "execution_count": 18,
   "id": "d46b4be1",
   "metadata": {},
   "outputs": [
    {
     "data": {
      "text/plain": [
       "{'arju', 'nyan', 'ravan', 'sabin'}"
      ]
     },
     "execution_count": 18,
     "metadata": {},
     "output_type": "execute_result"
    }
   ],
   "source": [
    "ms.difference(apple)"
   ]
  },
  {
   "cell_type": "code",
   "execution_count": 21,
   "id": "35783b02",
   "metadata": {},
   "outputs": [
    {
     "data": {
      "text/plain": [
       "{'depen', 'ishan'}"
      ]
     },
     "execution_count": 21,
     "metadata": {},
     "output_type": "execute_result"
    }
   ],
   "source": [
    "u={'arju', 'gita', 'hrai', 'nyan', 'ram', 'ravan', 'sabin', 'shyam', 'sita','ishan','depen'}\n",
    "apple={'ram','shyam','hrai','sita','gita'}\n",
    "ms={'sabin','arju','sita','ram','ravan','nyan'}\n",
    "x=apple.union(ms)\n",
    "u.difference(x)"
   ]
  },
  {
   "cell_type": "code",
   "execution_count": null,
   "id": "7ffc25bf",
   "metadata": {},
   "outputs": [],
   "source": []
  },
  {
   "cell_type": "code",
   "execution_count": null,
   "id": "fc3b9bcc",
   "metadata": {},
   "outputs": [],
   "source": []
  }
 ],
 "metadata": {
  "kernelspec": {
   "display_name": "Python 3",
   "language": "python",
   "name": "python3"
  },
  "language_info": {
   "codemirror_mode": {
    "name": "ipython",
    "version": 3
   },
   "file_extension": ".py",
   "mimetype": "text/x-python",
   "name": "python",
   "nbconvert_exporter": "python",
   "pygments_lexer": "ipython3",
   "version": "3.8.8"
  }
 },
 "nbformat": 4,
 "nbformat_minor": 5
}
