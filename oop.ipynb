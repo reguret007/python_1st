{
 "cells": [
  {
   "cell_type": "code",
   "execution_count": 1,
   "id": "318d3715",
   "metadata": {},
   "outputs": [
    {
     "name": "stdout",
     "output_type": "stream",
     "text": [
      "hello world\n"
     ]
    }
   ],
   "source": [
    "class Hello:        #class\n",
    "    print('hello world')\n",
    "obj=Hello()          #object"
   ]
  },
  {
   "cell_type": "code",
   "execution_count": 2,
   "id": "46fc374f",
   "metadata": {},
   "outputs": [],
   "source": [
    "# class <class_name>:\n",
    "#     <operation>\n",
    "# <obj>"
   ]
  },
  {
   "cell_type": "code",
   "execution_count": 3,
   "id": "ccb0dfd2",
   "metadata": {},
   "outputs": [
    {
     "name": "stdout",
     "output_type": "stream",
     "text": [
      "Hello World\n"
     ]
    }
   ],
   "source": [
    "class Ecomm:\n",
    "    def acc(self):      #method\n",
    "        print('Hello World')\n",
    "obj=Ecomm()\n",
    "obj.acc()"
   ]
  },
  {
   "cell_type": "code",
   "execution_count": 5,
   "id": "96d721e7",
   "metadata": {},
   "outputs": [
    {
     "name": "stdout",
     "output_type": "stream",
     "text": [
      "hello world\n"
     ]
    }
   ],
   "source": [
    "class Ecomm:\n",
    "    def acc(self,x):      #method\n",
    "        print(x)\n",
    "obj=Ecomm()\n",
    "obj.acc('hello world')"
   ]
  },
  {
   "cell_type": "code",
   "execution_count": 4,
   "id": "9f5f6e8b",
   "metadata": {},
   "outputs": [
    {
     "name": "stdout",
     "output_type": "stream",
     "text": [
      "Hello World\n"
     ]
    }
   ],
   "source": [
    "class Ecomm:\n",
    "    @staticmethod   #method\n",
    "    def acc():      \n",
    "        print('Hello World')\n",
    "obj=Ecomm()\n",
    "obj.acc()"
   ]
  },
  {
   "cell_type": "code",
   "execution_count": 7,
   "id": "854e8b4f",
   "metadata": {},
   "outputs": [
    {
     "name": "stdout",
     "output_type": "stream",
     "text": [
      "48\n",
      "96\n"
     ]
    }
   ],
   "source": [
    "class Cal:\n",
    "    def area(self):\n",
    "        l=12\n",
    "        b=4\n",
    "        a=l*b\n",
    "        print(a)\n",
    "    def volume(self):\n",
    "        l=12\n",
    "        b=4\n",
    "        h=2\n",
    "        v=l*b*h\n",
    "        print(v)\n",
    "obj=Cal()\n",
    "obj.area()\n",
    "obj.volume()\n",
    "    "
   ]
  },
  {
   "cell_type": "code",
   "execution_count": 8,
   "id": "af6d784a",
   "metadata": {},
   "outputs": [
    {
     "name": "stdout",
     "output_type": "stream",
     "text": [
      "28\n",
      "96\n"
     ]
    }
   ],
   "source": [
    "class Cal:\n",
    "    \n",
    "    def area(self,l,b):\n",
    "        \n",
    "        a=l*b\n",
    "        print(a)\n",
    "    def volume(self,l,b,h):\n",
    "       \n",
    "        v=l*b*h\n",
    "        print(v)\n",
    "obj=Cal()\n",
    "obj.area(14,2)\n",
    "obj.volume(12,4,2)\n",
    "    "
   ]
  },
  {
   "cell_type": "code",
   "execution_count": 9,
   "id": "a1777ff7",
   "metadata": {},
   "outputs": [
    {
     "name": "stdout",
     "output_type": "stream",
     "text": [
      "50\n",
      "100\n"
     ]
    }
   ],
   "source": [
    "class Cal:\n",
    "    def __init__(self,l,b,h):\n",
    "        self.l=l\n",
    "        self.b=b\n",
    "        self.h=h\n",
    "        \n",
    "    def area(self):\n",
    "        \n",
    "        a=self.l*self.b\n",
    "        print(a)\n",
    "    def volume(self):\n",
    "        \n",
    "        v=self.l*self.b*self.h\n",
    "        print(v)\n",
    "obj=Cal(10,5,2)\n",
    "obj.area()\n",
    "obj.volume()\n",
    "    "
   ]
  },
  {
   "cell_type": "code",
   "execution_count": 10,
   "id": "3aa8d67b",
   "metadata": {},
   "outputs": [
    {
     "name": "stdout",
     "output_type": "stream",
     "text": [
      "enter value: 2\n",
      "enter value: 3\n",
      "enter value: 4\n",
      "6\n",
      "24\n"
     ]
    }
   ],
   "source": [
    "class Cal:\n",
    "    def __init__(self,x,y,z):    #init(self)=constructer\n",
    "        self.l=x\n",
    "        self.b=y\n",
    "        self.h=z\n",
    "        \n",
    "    def area(self):\n",
    "        \n",
    "        a=self.l*self.b\n",
    "        print(a)\n",
    "    def volume(self):\n",
    "        \n",
    "        v=self.l*self.b*self.h\n",
    "        print(v)\n",
    "l=int(input('enter value: '))\n",
    "b=int(input('enter value: '))\n",
    "h=int(input('enter value: '))\n",
    "\n",
    "obj=Cal(l,b,h)\n",
    "obj.area()\n",
    "obj.volume()\n",
    "    "
   ]
  },
  {
   "cell_type": "code",
   "execution_count": 2,
   "id": "3098fb1e",
   "metadata": {},
   "outputs": [
    {
     "name": "stdout",
     "output_type": "stream",
     "text": [
      "enetr name: sujin\n",
      "enetr age: 23\n",
      "sujin\n",
      "<class '__main__.Info'>\n"
     ]
    }
   ],
   "source": [
    "# str method\n",
    "class Info:\n",
    "    def __init__(self):\n",
    "        self.name=input('enetr name: ')\n",
    "        self.age=int(input('enetr age: '))\n",
    "    def __str__(self):\n",
    "        return self.name\n",
    "obj=Info()\n",
    "print(obj)\n",
    "print(type(obj))\n"
   ]
  },
  {
   "cell_type": "code",
   "execution_count": 3,
   "id": "6a589102",
   "metadata": {},
   "outputs": [
    {
     "name": "stdout",
     "output_type": "stream",
     "text": [
      "enetr name: sujin\n",
      "enetr age: 23\n",
      "sujin\n",
      "<class '__main__.Info'>\n",
      "sujintamang\n"
     ]
    }
   ],
   "source": [
    "class Info:\n",
    "    def __init__(self):\n",
    "        self.name=input('enetr name: ')\n",
    "        self.age=int(input('enetr age: '))\n",
    "    def __str__(self):\n",
    "        return self.name\n",
    "obj=Info()\n",
    "print(obj)\n",
    "print(type(obj))\n",
    "print(str(obj)+'tamang')"
   ]
  },
  {
   "cell_type": "code",
   "execution_count": 4,
   "id": "5799a96e",
   "metadata": {},
   "outputs": [
    {
     "name": "stdout",
     "output_type": "stream",
     "text": [
      "enetr name: sujin\n",
      "enetr age: 23\n",
      "23\n",
      "<class '__main__.Info'>\n"
     ]
    }
   ],
   "source": [
    "class Info:\n",
    "    def __init__(self):\n",
    "        self.name=input('enetr name: ')\n",
    "        self.age=int(input('enetr age: '))\n",
    "    def __str__(self):\n",
    "        return str(self.age)\n",
    "obj=Info()\n",
    "print(obj)\n",
    "print(type(obj))"
   ]
  },
  {
   "cell_type": "code",
   "execution_count": 6,
   "id": "713b5c06",
   "metadata": {},
   "outputs": [
    {
     "name": "stdout",
     "output_type": "stream",
     "text": [
      "enetr name: sujin\n",
      "enetr age: 23\n",
      "sujin 23\n",
      "<class '__main__.Info'>\n"
     ]
    }
   ],
   "source": [
    "class Info:\n",
    "    def __init__(self):\n",
    "        self.name=input('enetr name: ')\n",
    "        self.age=int(input('enetr age: '))\n",
    "    def __str__(self):\n",
    "        return f'{self.name} {self.age}'\n",
    "obj=Info()\n",
    "print(obj)\n",
    "print(type(obj))"
   ]
  },
  {
   "cell_type": "code",
   "execution_count": 7,
   "id": "b57f4474",
   "metadata": {},
   "outputs": [],
   "source": [
    "#Inheritence\n",
    "# class A:\n",
    "#     pass\n",
    "# class B(A):\n",
    "#     pass\n",
    "# obj=B()"
   ]
  },
  {
   "cell_type": "code",
   "execution_count": 8,
   "id": "1a53eb67",
   "metadata": {},
   "outputs": [
    {
     "name": "stdout",
     "output_type": "stream",
     "text": [
      "30\n"
     ]
    }
   ],
   "source": [
    "class A:\n",
    "    def __init__(self):\n",
    "        self.a=10\n",
    "        self.b=20\n",
    "class B(A):\n",
    "    def add(self):\n",
    "        print(self.a+self.b)\n",
    "obj=B()\n",
    "obj.add()\n",
    "    "
   ]
  },
  {
   "cell_type": "code",
   "execution_count": 9,
   "id": "0f3f9c45",
   "metadata": {},
   "outputs": [
    {
     "name": "stdout",
     "output_type": "stream",
     "text": [
      "30\n",
      "10 20\n"
     ]
    }
   ],
   "source": [
    "class A:\n",
    "    def __init__(self):\n",
    "        self.a=10\n",
    "        self.b=20\n",
    "class B(A):\n",
    "    def add(self):\n",
    "        print(self.a+self.b)\n",
    "obj=B()\n",
    "obj.add()\n",
    "print(obj.a,obj.b)"
   ]
  },
  {
   "cell_type": "code",
   "execution_count": 13,
   "id": "7fb3f363",
   "metadata": {},
   "outputs": [
    {
     "name": "stdout",
     "output_type": "stream",
     "text": [
      "2000\n"
     ]
    }
   ],
   "source": [
    "class A:\n",
    "    def __init__(self):\n",
    "        self.l=10\n",
    "        self.b=20\n",
    "class B(A):\n",
    "    def __init__(self):\n",
    "        self.h=10\n",
    "        A.__init__(self)\n",
    "    def add(self):\n",
    "        print(self.l*self.b*self.h)\n",
    "obj=B()\n",
    "obj.add()"
   ]
  },
  {
   "cell_type": "code",
   "execution_count": 15,
   "id": "e4d2e6dd",
   "metadata": {},
   "outputs": [
    {
     "name": "stdout",
     "output_type": "stream",
     "text": [
      "a\n",
      "b\n",
      "c\n"
     ]
    }
   ],
   "source": [
    "class A:\n",
    "    print('a')\n",
    "class B(A):\n",
    "    print('b')\n",
    "class C(B):\n",
    "    print('c')\n",
    "obj=C()"
   ]
  },
  {
   "cell_type": "code",
   "execution_count": 16,
   "id": "48bb2269",
   "metadata": {},
   "outputs": [
    {
     "name": "stdout",
     "output_type": "stream",
     "text": [
      "a\n",
      "b\n",
      "c\n"
     ]
    }
   ],
   "source": [
    "class A:\n",
    "    print('a')\n",
    "class B:\n",
    "    print('b')\n",
    "class C(A,B):\n",
    "    print('c')\n",
    "obj=C()"
   ]
  },
  {
   "cell_type": "code",
   "execution_count": 18,
   "id": "69f6ee6f",
   "metadata": {},
   "outputs": [
    {
     "name": "stdout",
     "output_type": "stream",
     "text": [
      "ram 23 kathmandu\n"
     ]
    }
   ],
   "source": [
    "class A:\n",
    "    def __init__(self):\n",
    "        self.name='ram'\n",
    "class B:\n",
    "    def __init__(self):\n",
    "        self.age=23\n",
    "class C(A,B):\n",
    "    def __init__(self):\n",
    "        self.add='kathmandu'\n",
    "        A.__init__(self)\n",
    "        B.__init__(self)\n",
    "    def info(self):\n",
    "        print(self.name,self.age,self.add)\n",
    "obj=C()\n",
    "obj.info()\n",
    "    "
   ]
  },
  {
   "cell_type": "code",
   "execution_count": 4,
   "id": "43f84598",
   "metadata": {},
   "outputs": [
    {
     "name": "stdout",
     "output_type": "stream",
     "text": [
      "ram 23 kathmandu\n"
     ]
    }
   ],
   "source": [
    "class A:\n",
    "    def __init__(self,name):\n",
    "        self.name=name\n",
    "class B:\n",
    "    def __init__(self,age):\n",
    "        self.age=age\n",
    "class C(A,B):\n",
    "    def __init__(self,name,age,add):\n",
    "        self.add=add\n",
    "        A.__init__(self,name)\n",
    "        B.__init__(self,age)\n",
    "    def info(self):\n",
    "        print(self.name,self.age,self.add)\n",
    "obj = C('ram',23,'kathmandu')\n",
    "obj.info()"
   ]
  },
  {
   "cell_type": "code",
   "execution_count": 5,
   "id": "86c59091",
   "metadata": {},
   "outputs": [
    {
     "name": "stdout",
     "output_type": "stream",
     "text": [
      "Hello world i am ram Hello world i am 23\n"
     ]
    }
   ],
   "source": [
    "class A:\n",
    "    def __init__(self,name):\n",
    "        self.name=name\n",
    "    def a(self):\n",
    "        return f'Hello world i am {self.name}'\n",
    "class B:\n",
    "    def __init__(self,age):\n",
    "        self.age=age\n",
    "    def b(self):\n",
    "        return f'Hello world i am {self.age}'\n",
    "class C(A,B):\n",
    "    def __init__(self,name,age,add):\n",
    "        self.add=add\n",
    "        A.__init__(self,name)\n",
    "        B.__init__(self,age)\n",
    "    def info(self):\n",
    "        return(self.name,self.age,self.add)\n",
    "    def all_info(self):\n",
    "        print(super().a(),super().b())\n",
    "obj = C('ram',23,'kathmandu')\n",
    "obj.info()\n",
    "obj.all_info()"
   ]
  },
  {
   "cell_type": "code",
   "execution_count": 6,
   "id": "c59c233a",
   "metadata": {},
   "outputs": [
    {
     "name": "stdout",
     "output_type": "stream",
     "text": [
      "ram 23 kathmandu\n"
     ]
    }
   ],
   "source": [
    "#public attribute\n",
    "class Info:\n",
    "    def __init__(self):\n",
    "        self.name='ram'\n",
    "        self.age=23\n",
    "        self.add='kathmandu'\n",
    "obj= Info()\n",
    "print(obj.name,obj.age,obj.add)"
   ]
  },
  {
   "cell_type": "code",
   "execution_count": 7,
   "id": "24e759be",
   "metadata": {},
   "outputs": [
    {
     "name": "stdout",
     "output_type": "stream",
     "text": [
      "ram 23 kathmandu\n"
     ]
    }
   ],
   "source": [
    "#protected attribute\n",
    "class Info:\n",
    "    def __init__(self):\n",
    "        self._name='ram'\n",
    "        self._age=23\n",
    "        self._add='kathmandu'\n",
    "obj= Info()\n",
    "print(obj._name,obj._age,obj._add)"
   ]
  },
  {
   "cell_type": "code",
   "execution_count": 8,
   "id": "4ba931bb",
   "metadata": {},
   "outputs": [
    {
     "ename": "AttributeError",
     "evalue": "'Info' object has no attribute '__name'",
     "output_type": "error",
     "traceback": [
      "\u001b[1;31m---------------------------------------------------------------------------\u001b[0m",
      "\u001b[1;31mAttributeError\u001b[0m                            Traceback (most recent call last)",
      "\u001b[1;32m<ipython-input-8-11db153a070d>\u001b[0m in \u001b[0;36m<module>\u001b[1;34m\u001b[0m\n\u001b[0;32m      6\u001b[0m         \u001b[0mself\u001b[0m\u001b[1;33m.\u001b[0m\u001b[0m__add\u001b[0m\u001b[1;33m=\u001b[0m\u001b[1;34m'kathmandu'\u001b[0m\u001b[1;33m\u001b[0m\u001b[1;33m\u001b[0m\u001b[0m\n\u001b[0;32m      7\u001b[0m \u001b[0mobj\u001b[0m\u001b[1;33m=\u001b[0m \u001b[0mInfo\u001b[0m\u001b[1;33m(\u001b[0m\u001b[1;33m)\u001b[0m\u001b[1;33m\u001b[0m\u001b[1;33m\u001b[0m\u001b[0m\n\u001b[1;32m----> 8\u001b[1;33m \u001b[0mprint\u001b[0m\u001b[1;33m(\u001b[0m\u001b[0mobj\u001b[0m\u001b[1;33m.\u001b[0m\u001b[0m__name\u001b[0m\u001b[1;33m,\u001b[0m\u001b[0mobj\u001b[0m\u001b[1;33m.\u001b[0m\u001b[0m__age\u001b[0m\u001b[1;33m,\u001b[0m\u001b[0mobj\u001b[0m\u001b[1;33m.\u001b[0m\u001b[0m__add\u001b[0m\u001b[1;33m)\u001b[0m\u001b[1;33m\u001b[0m\u001b[1;33m\u001b[0m\u001b[0m\n\u001b[0m",
      "\u001b[1;31mAttributeError\u001b[0m: 'Info' object has no attribute '__name'"
     ]
    }
   ],
   "source": [
    "#private attribute\n",
    "class Info:\n",
    "    def __init__(self):\n",
    "        self.__name='ram'\n",
    "        self.__age=23\n",
    "        self.__add='kathmandu'\n",
    "obj= Info()\n",
    "print(obj.__name,obj.__age,obj.__add)"
   ]
  },
  {
   "cell_type": "code",
   "execution_count": 9,
   "id": "3f9d78df",
   "metadata": {},
   "outputs": [
    {
     "name": "stdout",
     "output_type": "stream",
     "text": [
      "ram 23 kathmandu\n"
     ]
    }
   ],
   "source": [
    "#private attribute\n",
    "class Info:\n",
    "    def __init__(self):\n",
    "        self.__name='ram'\n",
    "        self.__age=23\n",
    "        self.__add='kathmandu'\n",
    "obj= Info()\n",
    "print(obj._Info__name,obj._Info__age,obj._Info__add)"
   ]
  },
  {
   "cell_type": "code",
   "execution_count": 11,
   "id": "0c242fc8",
   "metadata": {},
   "outputs": [
    {
     "name": "stdout",
     "output_type": "stream",
     "text": [
      "ram 23 kathmandu\n"
     ]
    }
   ],
   "source": [
    "class A:\n",
    "    def __init__(self):\n",
    "        self._name='ram'\n",
    "    def a(self):\n",
    "        return f'hello iam{self._name}'\n",
    "\n",
    "class B:\n",
    "    \n",
    "    def __init__(self):\n",
    "        self.__age=23\n",
    "        return f'hello iam{self.__age}'\n",
    "\n",
    "class C(A,B):\n",
    "    def __init__(self):\n",
    "        self.add='kathmandu'\n",
    "        A.__init__(self)\n",
    "        B.__init__(self)\n",
    "    def info(self):\n",
    "        print(self._name,self._B__age,self.add)\n",
    "obj=C()\n",
    "obj.info()\n",
    "    "
   ]
  },
  {
   "cell_type": "code",
   "execution_count": 12,
   "id": "d37b682e",
   "metadata": {},
   "outputs": [
    {
     "name": "stdout",
     "output_type": "stream",
     "text": [
      "ram 23 kathmandu\n"
     ]
    }
   ],
   "source": [
    "class A:\n",
    "    def __init__(self,name):\n",
    "        self.name=name\n",
    "    def a(self):\n",
    "        return f'hello i am{self.name}'\n",
    "class B(A):\n",
    "    def __init__(self,name,age):\n",
    "        self.age=age\n",
    "        A.__init__(self,name)\n",
    "    def a(self):\n",
    "        return f'hello i am{self.age}'\n",
    "class C(B):\n",
    "    def __init__(self,name,age,add):\n",
    "        self.add=add\n",
    "        \n",
    "        B.__init__(self,name,age)\n",
    "    def info(self):\n",
    "        print(self.name,self.age,self.add)\n",
    "obj = C('ram',23,'kathmandu')\n",
    "obj.info()"
   ]
  },
  {
   "cell_type": "code",
   "execution_count": null,
   "id": "5d8de1bb",
   "metadata": {},
   "outputs": [],
   "source": []
  }
 ],
 "metadata": {
  "kernelspec": {
   "display_name": "Python 3",
   "language": "python",
   "name": "python3"
  },
  "language_info": {
   "codemirror_mode": {
    "name": "ipython",
    "version": 3
   },
   "file_extension": ".py",
   "mimetype": "text/x-python",
   "name": "python",
   "nbconvert_exporter": "python",
   "pygments_lexer": "ipython3",
   "version": "3.8.8"
  }
 },
 "nbformat": 4,
 "nbformat_minor": 5
}
